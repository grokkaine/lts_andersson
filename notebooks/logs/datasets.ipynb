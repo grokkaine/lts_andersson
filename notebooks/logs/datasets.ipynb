{
 "cells": [
  {
   "cell_type": "markdown",
   "metadata": {},
   "source": [
    "1. the Askö samples.\n",
    "2. the LMO samples, 2012 - 2014.\n",
    "3. the 30 transect samples "
   ]
  },
  {
   "cell_type": "markdown",
   "metadata": {},
   "source": [
    "# LMO samples, 2012 - 2014\n",
    "\n",
    "- The LMO samples for 2013-2014\n",
    "- Scilife sequence project id: P4201\n",
    "- Location:\n",
    "/pica/v9/b2014214_nobackup/preprocessing/fastuniq/quality_adapter_no_indices/P4201_1*_R{1,2}.fq.gz\n",
    "\n",
    "> Johannes: Sample number 13 and 15 are missing, which is a bit confusing but I think that's the way it's supposed to be. Let me know if you for some reason can't access them at the current location. As far as I know, I haven't accessed any metadata for these samples yet, I will send an email to Daniel and ask for it.\n"
   ]
  },
  {
   "cell_type": "markdown",
   "metadata": {},
   "source": [
    "# Transect samples\n",
    "\n",
    "Location for the transect samples Johannes specified in one of the emails in this thread (there are samples with and without spike-in DNA, see all emails in this thread).\n",
    "\n",
    "> Sergiu: Oh I see, the P1994* samples were the transect. For some reason I thought they are my old samples with removed spike-ins. \n",
    "\n",
    "Status: A 53 GB transect_merged.fastq.gz file was generated.\n"
   ]
  },
  {
   "cell_type": "markdown",
   "metadata": {},
   "source": [
    "# Askö samples\n",
    "\n",
    "Status: A crispr.crass file was generated but was not backed up yet."
   ]
  },
  {
   "cell_type": "code",
   "execution_count": null,
   "metadata": {
    "collapsed": true
   },
   "outputs": [],
   "source": []
  }
 ],
 "metadata": {
  "kernelspec": {
   "display_name": "Python 3",
   "language": "python",
   "name": "python3"
  },
  "language_info": {
   "codemirror_mode": {
    "name": "ipython",
    "version": 3
   },
   "file_extension": ".py",
   "mimetype": "text/x-python",
   "name": "python",
   "nbconvert_exporter": "python",
   "pygments_lexer": "ipython3",
   "version": "3.6.4"
  }
 },
 "nbformat": 4,
 "nbformat_minor": 2
}
