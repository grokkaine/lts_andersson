{
 "cells": [
  {
   "cell_type": "markdown",
   "metadata": {},
   "source": [
    "# Run Crass on the collapsed sample set"
   ]
  },
  {
   "cell_type": "markdown",
   "metadata": {},
   "source": [
    "#### Testing Crass on the converted fastq\n",
    "\n",
    "```\n",
    "$ cd /home/sergiu/data/local/andersson/test && crass -o ./ -l 4 ./test.gz\n",
    "```\n",
    "\n",
    "This failed during testing, because the criss.craspr file outputs the sample ID up to the first space and I inserted a space after the sample name.\n",
    "\n",
    "I also checked if the files at:\n",
    "\n",
    "/proj/b2014214/nobackup/BARM/fastuniq/quality_adapter_no_indices\n",
    "\n",
    ", provide all the samples listed in my \"crispr_sample_info.csv\". Checked!\n",
    "\n",
    "\n",
    "\n",
    "```\n",
    "ls 12*_R1.fq.gz > ~/flist.txt\n",
    "grep -Eio '^[0-9]+' flist.txt\n",
    "```\n",
    "\n",
    "Now I am configuring my YAML for reproducibility, to re-generate this large file."
   ]
  },
  {
   "cell_type": "code",
   "execution_count": 9,
   "metadata": {
    "collapsed": false
   },
   "outputs": [
    {
     "name": "stdout",
     "output_type": "stream",
     "text": [
      "['120314', '120322', '120328', '120403', '120416', '120419', '120423', '120507', '120516', '120521', '120531', '120604', '120613', '120619', '120628', '120705', '120709', '120717', '120802', '120806', '120813', '120820', '120823', '120828', '120903', '120910', '120920', '120924', '121001', '121004', '121015', '121022', '121028', '121105', '121123', '121128', '121220']\n"
     ]
    }
   ],
   "source": [
    "flist = \"120314\t120322\t120328\t120403\t120416\t120419\t120423\t120507\t120516\t120521\t120531\t120604\t120613\t120619\t120628\t120705\t120709\t120717\t120802\t120806\t120813\t120820\t120823\t120828\t120903\t120910\t120920\t120924\t121001\t121004\t121015\t121022\t121028\t121105\t121123\t121128\t121220\"\n",
    "print(flist.split())"
   ]
  },
  {
   "cell_type": "code",
   "execution_count": 12,
   "metadata": {
    "collapsed": false
   },
   "outputs": [
    {
     "name": "stdout",
     "output_type": "stream",
     "text": [
      "37\n",
      "['120314_R1.fq.gz', '120322_R1.fq.gz', '120328_R1.fq.gz', '120403_R1.fq.gz', '120416_R1.fq.gz', '120419_R1.fq.gz', '120423_R1.fq.gz', '120507_R1.fq.gz', '120516_R1.fq.gz', '120521_R1.fq.gz', '120531_R1.fq.gz', '120604_R1.fq.gz', '120613_R1.fq.gz', '120619_R1.fq.gz', '120628_R1.fq.gz', '120705_R1.fq.gz', '120709_R1.fq.gz', '120717_R1.fq.gz', '120802_R1.fq.gz', '120806_R1.fq.gz', '120813_R1.fq.gz', '120820_R1.fq.gz', '120823_R1.fq.gz', '120828_R1.fq.gz', '120903_R1.fq.gz', '120910_R1.fq.gz', '120920_R1.fq.gz', '120924_R1.fq.gz', '121001_R1.fq.gz', '121004_R1.fq.gz', '121015_R1.fq.gz', '121022_R1.fq.gz', '121028_R1.fq.gz', '121105_R1.fq.gz', '121123_R1.fq.gz', '121128_R1.fq.gz', '121220_R1.fq.gz', '120314_R2.fq.gz', '120322_R2.fq.gz', '120328_R2.fq.gz', '120403_R2.fq.gz', '120416_R2.fq.gz', '120419_R2.fq.gz', '120423_R2.fq.gz', '120507_R2.fq.gz', '120516_R2.fq.gz', '120521_R2.fq.gz', '120531_R2.fq.gz', '120604_R2.fq.gz', '120613_R2.fq.gz', '120619_R2.fq.gz', '120628_R2.fq.gz', '120705_R2.fq.gz', '120709_R2.fq.gz', '120717_R2.fq.gz', '120802_R2.fq.gz', '120806_R2.fq.gz', '120813_R2.fq.gz', '120820_R2.fq.gz', '120823_R2.fq.gz', '120828_R2.fq.gz', '120903_R2.fq.gz', '120910_R2.fq.gz', '120920_R2.fq.gz', '120924_R2.fq.gz', '121001_R2.fq.gz', '121004_R2.fq.gz', '121015_R2.fq.gz', '121022_R2.fq.gz', '121028_R2.fq.gz', '121105_R2.fq.gz', '121123_R2.fq.gz', '121128_R2.fq.gz', '121220_R2.fq.gz']\n",
      "['120314_R1', '120322_R1', '120328_R1', '120403_R1', '120416_R1', '120419_R1', '120423_R1', '120507_R1', '120516_R1', '120521_R1', '120531_R1', '120604_R1', '120613_R1', '120619_R1', '120628_R1', '120705_R1', '120709_R1', '120717_R1', '120802_R1', '120806_R1', '120813_R1', '120820_R1', '120823_R1', '120828_R1', '120903_R1', '120910_R1', '120920_R1', '120924_R1', '121001_R1', '121004_R1', '121015_R1', '121022_R1', '121028_R1', '121105_R1', '121123_R1', '121128_R1', '121220_R1', '120314_R2', '120322_R2', '120328_R2', '120403_R2', '120416_R2', '120419_R2', '120423_R2', '120507_R2', '120516_R2', '120521_R2', '120531_R2', '120604_R2', '120613_R2', '120619_R2', '120628_R2', '120705_R2', '120709_R2', '120717_R2', '120802_R2', '120806_R2', '120813_R2', '120820_R2', '120823_R2', '120828_R2', '120903_R2', '120910_R2', '120920_R2', '120924_R2', '121001_R2', '121004_R2', '121015_R2', '121022_R2', '121028_R2', '121105_R2', '121123_R2', '121128_R2', '121220_R2']\n"
     ]
    }
   ],
   "source": [
    "samples = ['120314', '120322', '120328', '120403', '120416', '120419', '120423', '120507', '120516', '120521', '120531', '120604', '120613', '120619', '120628', '120705', '120709', '120717', '120802', '120806', '120813', '120820', '120823', '120828', '120903', '120910', '120920', '120924', '121001', '121004', '121015', '121022', '121028', '121105', '121123', '121128', '121220']\n",
    "print len(flist)\n",
    "print [s+'_R1.fq.gz' for s in samples]+[s+'_R2.fq.gz' for s in samples]\n",
    "print [s+'_R1' for s in samples]+[s+'_R2' for s in samples]"
   ]
  },
  {
   "cell_type": "markdown",
   "metadata": {
    "collapsed": false
   },
   "source": [
    "Trying to setup a python environment on UPPMAX\n",
    "\n",
    "```\n",
    "module avail\n",
    "python/2.7.6\n",
    "\n",
    "module load python/2.7.6\n",
    "```\n",
    "Then time to look for the exe..\n",
    "\n",
    "```\n",
    "\n",
    "```\n",
    "And I forgot that I can't use pip here so I had to backtrack and clean an older python setup, then use pyenv to setup a new environment. And now we shall try to configure an environment..\n",
    "\n",
    "http://www.uppmax.uu.se/support/user-guides/python-modules-guide/\n",
    "\n",
    "```\n",
    "git clone git://github.com/yyuu/pyenv.git ~/.pyenv\n",
    "\n",
    "echo 'export PYENV_ROOT=\"$HOME/.pyenv\"' >> ~/.bash_profile\n",
    "echo 'export PATH=\"$PYENV_ROOT/bin:$PATH\"' >> ~/.bash_profile\n",
    "echo 'eval \"$(pyenv init -)\"' >> ~/.bash_profile\n",
    "pyenv install 2.7.6\n",
    "pyenv global 2.7.6\n",
    "\n",
    "# To make sure everything gets loaded correctly, log out and back in to uppmax.\n",
    "\n",
    ">>> import sys\n",
    ">>> sys.executable\n",
    "'/home/sergiun/.pyenv/versions/2.7.6/bin/python'\n",
    "\n",
    "pip install virtualenv\n",
    "virtualenv -p /home/sergiun/.pyenv/versions/2.7.6/bin/python --no-site-packages crispr\n",
    "source crispr/bin/activate\n",
    "\n",
    "# just checking...\n",
    ">>sys.executable\n",
    "'/pica/h1/sergiun/crispr/bin/python'\n",
    "\n",
    "pip install pyyaml\n",
    "> Successfully installed pyyaml-3.12\n",
    "\n",
    "$ echo $VIRTUAL_ENV\n",
    "/pica/h1/sergiun/crispr\n",
    "```\n",
    "\n",
    "And now I seem to be set for doing the merger. Horrible horrible stuff working on a cluster."
   ]
  },
  {
   "cell_type": "markdown",
   "metadata": {
    "collapsed": true
   },
   "source": [
    "#### Doing a short test on UPPMAX\n",
    "\n",
    "cd /pica/v9/b2014214_nobackup/crispr/sergiu/src/uppmax && sbatch pipeline.py"
   ]
  },
  {
   "cell_type": "markdown",
   "metadata": {},
   "source": [
    "#### Running the merger script in full\n",
    "\n",
    "It was suggested to use another volume on UPPMAX:\n",
    "\n",
    "/proj/b2010008/nobackup/projects\n",
    "\n",
    ".. And it took 1 day + 19 hours to finish the sample merger, while the size of the resulted file is 60Gb. I will try running Crass over it on my workstation.\n",
    "\n",
    "Mon, 11:00am\n",
    "```\n",
    "cd /home/sergiu/data/local/andersson/120_crass/merged && crass -o ./ -l 4 /home/sergiu/data/local/andersson/120_samples/merged_tsamples.fq.gz\n",
    "```"
   ]
  },
  {
   "cell_type": "code",
   "execution_count": null,
   "metadata": {
    "collapsed": true
   },
   "outputs": [],
   "source": [
    "\n",
    "\n"
   ]
  }
 ],
 "metadata": {
  "kernelspec": {
   "display_name": "Python 2",
   "language": "python",
   "name": "python2"
  },
  "language_info": {
   "codemirror_mode": {
    "name": "ipython",
    "version": 2
   },
   "file_extension": ".py",
   "mimetype": "text/x-python",
   "name": "python",
   "nbconvert_exporter": "python",
   "pygments_lexer": "ipython2",
   "version": "2.7.12"
  }
 },
 "nbformat": 4,
 "nbformat_minor": 1
}
