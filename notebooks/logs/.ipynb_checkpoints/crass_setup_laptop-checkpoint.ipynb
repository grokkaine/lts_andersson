{
 "cells": [
  {
   "cell_type": "markdown",
   "metadata": {},
   "source": [
    "### Laptop installation of Crass\n",
    "\n",
    "[https://github.com/ctSkennerton/crass/](https://github.com/ctSkennerton/crass/)\n",
    "\n",
    "Crass is simple to install on the laptop, the basic install took less than an hour, but the aligner it uses (I only installed velvet had to be recompiled from source to allow for longer kmer length). This will present problems on UPPMAX, along with meeting all the requirements.\n",
    "\n",
    "```\n",
    "# Install some dependencies\n",
    "# test gcc version\n",
    "# crass was tested with gcc 4.4.5 and gcc 4.6.3 \n",
    "$ dpkg -l | grep gcc\n",
    "$ gcc --version\n",
    "gcc (Ubuntu 4.8.4-2ubuntu1~14.04.1) 4.8.4\n",
    "$ sudo apt-get update\n",
    "$ apt-cache search libxerces\n",
    "$ sudo apt-get install libxerces-c3.1 libxerces-c3-dev\n",
    "$ sudo apt-get install zlib1g zlib1g-dev\n",
    "$ sudo apt-get install graphviz\n",
    "# these were also needed\n",
    "$ sudo apt-get install libtool autoconf\n",
    "$ dpkg -s libtool\n",
    "Version: 2.4.2-1.7ubuntu1\n",
    "\n",
    "# Install Velvet\n",
    "# clone from https://github.com/dzerbino/velvet/tree/master\n",
    "$ make 'MAXKMERLENGTH=100'\n",
    "$ sudo cp velveth velvetg /usr/local/bin\n",
    "$ which velvetg\n",
    "# tips at https://asciinema.org/a/7413\n",
    "\n",
    "# Install Crass\n",
    "# clone or download from https://github.com/ctSkennerton/crass/\n",
    "$ ./autogen.sh\n",
    "$ ./configure\n",
    "$ make\n",
    "$ make install\n",
    "\n",
    "# Obs. Newer GCC compilers don't work well with Crass\n",
    "# To explicitly use an older compiler I do (as an Ubuntu-Debian fanatic)\n",
    "# http://askubuntu.com/questions/26498/choose-gcc-and-g-version\n",
    "$ sudo apt-get install gcc-4.7 gcc-4.8 g++-4.7 g++-4.8\n",
    "$ sudo update-alternatives --remove-all gcc\n",
    "$ sudo update-alternatives --remove-all g++\n",
    "$ sudo update-alternatives --install /usr/bin/gcc gcc /usr/bin/gcc-4.7 20 --slave /usr/bin/g++ g++ /usr/bin/g++-4.7\n",
    "$ sudo update-alternatives --install /usr/bin/gcc gcc /usr/bin/gcc-4.8 10 --slave /usr/bin/g++ g++ /usr/bin/g++-4.8\n",
    "\n",
    "```"
   ]
  },
  {
   "cell_type": "markdown",
   "metadata": {},
   "source": [
    "## HPC install on Milou\n",
    "\n",
    "```\n",
    "module load gcc/4.6.3\n",
    "module load zlib/1.2.11\n",
    "\n",
    "wget http://apache.mirrors.spacedump.net//xerces/c/3/sources/xerces-c-3.1.4.tar.gz\n",
    "tar -xvf xerces-c-3.1.4.tar.gz\n",
    "./configure --disable-static CC=gcc-4.6\n",
    "./configure --prefix=/proj/b2010008/nobackup/projects/crispr/sergiu/bin\n",
    "make\n",
    "make install\n",
    "\n",
    "wget https://github.com/ctSkennerton/crass/archive/master.zip\n",
    "./autogen.sh\n",
    "./configure --with-xerces=/proj/b2010008/nobackup/projects/crispr/sergiu/bin --prefix=/proj/b2010008/nobackup/projects/crispr/sergiu/bin\n",
    "make\n",
    "make install\n",
    "\n",
    "export PATH=/proj/b2010008/nobackup/projects/crispr/sergiu/bin/bin:$PATH\n",
    "```\n",
    "\n",
    "my crass issue:\n",
    "google-chrome https://github.com/ctSkennerton/crassrissues/80 &"
   ]
  },
  {
   "cell_type": "markdown",
   "metadata": {},
   "source": [
    "## HPC install in my user directory\n",
    "\n",
    "```\n",
    "#module load gcc/4.8.3\n",
    "module load gcc/7.2.0\n",
    "module load zlib/1.2.11\n",
    "\n",
    "wget http://apache.mirrors.spacedump.net//xerces/c/3/sources/xerces-c-3.2.0.tar.gz\n",
    "tar -xvf xerces-c-3.2.0.tar.gz\n",
    "\n",
    "# tried this but did not work:\n",
    "module load cmake/3.5.1\n",
    "mkdir build\n",
    "cd build\n",
    "cmake -G \"Unix Makefiles\" -DCMAKE_INSTALL_PREFIX=/home/sergiun/bin/xerces-c -DCMAKE_BUILD_TYPE=Debug -Dmessage-loader=icu /home/sergiun/downloads/xerces-c-3.2.0\n",
    "make -j8\n",
    "make test\n",
    "make install \n",
    "\n",
    "./configure --disable-static CC=gcc-7.2 --disable-threads --prefix=/home/sergiun/bin/xerces-c\n",
    "#fails\n",
    "./configure --disable-static CC=gcc-4.8 --disable-threads --prefix=/home/sergiun/bin/xerces-c\n",
    "#fails\n",
    "./configure --disable-static CC=gcc-4.6 --disable-threads --prefix=/home/sergiun/bin/xerces-c\n",
    "#fails\n",
    "./configure --prefix=/home/sergiun/bin/xerces-c\n",
    "make\n",
    "make install\n",
    "\n",
    "\n",
    "\n",
    "$ git clone https://github.com/ctSkennerton/crass.git\n",
    "$ ./autogen.sh\n",
    "$ ./configure --with-xerces=/home/sergiun/bin/xerces-c --prefix=/home/sergiun/bin/crass\n",
    "$ make\n",
    "$ make install\n",
    "\n",
    "```"
   ]
  },
  {
   "cell_type": "markdown",
   "metadata": {},
   "source": [
    "If feels convenient to explore the spacer graphs that Crass is producing on the Jupyter environment.\n",
    "\n",
    "```\n",
    "sudo apt-get install graphviz libgraphviz-dev pkg-config\n",
    "sudo apt-get install python-pip python-virtualenv\n",
    "pip3.5 install pygraphviz\n",
    "```\n",
    "\n",
    "The first graph is plotting the spacers, while the second graph seems to plot the ???"
   ]
  },
  {
   "cell_type": "code",
   "execution_count": 2,
   "metadata": {},
   "outputs": [
    {
     "ename": "AttributeError",
     "evalue": "module 'networkx' has no attribute 'read_dot'",
     "output_type": "error",
     "traceback": [
      "\u001b[1;31m---------------------------------------------------------------------------\u001b[0m",
      "\u001b[1;31mAttributeError\u001b[0m                            Traceback (most recent call last)",
      "\u001b[1;32m<ipython-input-2-ee414ff548e1>\u001b[0m in \u001b[0;36m<module>\u001b[1;34m()\u001b[0m\n\u001b[0;32m      1\u001b[0m \u001b[1;32mimport\u001b[0m \u001b[0mnetworkx\u001b[0m \u001b[1;32mas\u001b[0m \u001b[0mnx\u001b[0m\u001b[1;33m\u001b[0m\u001b[0m\n\u001b[1;32m----> 2\u001b[1;33m \u001b[0mG\u001b[0m \u001b[1;33m=\u001b[0m \u001b[0mnx\u001b[0m\u001b[1;33m.\u001b[0m\u001b[0mread_dot\u001b[0m\u001b[1;33m(\u001b[0m\u001b[1;34m\"/home/sergiun/data/work/long/andersson/test/crass.18_05_2016_152828.keys.gv\"\u001b[0m\u001b[1;33m)\u001b[0m\u001b[1;33m\u001b[0m\u001b[0m\n\u001b[0m",
      "\u001b[1;31mAttributeError\u001b[0m: module 'networkx' has no attribute 'read_dot'"
     ]
    }
   ],
   "source": [
    "import networkx as nx\n",
    "G = nx.read_dot(\"/home/sergiun/data/work/long/andersson/test/crass.18_05_2016_152828.keys.gv\")\n",
    "\n",
    "\n"
   ]
  },
  {
   "cell_type": "code",
   "execution_count": 10,
   "metadata": {},
   "outputs": [
    {
     "name": "stdout",
     "output_type": "stream",
     "text": [
      "['./crass.crispr351']\n"
     ]
    },
    {
     "data": {
      "image/png": "[encoded data removed]",
      "text/plain": [
       "<matplotlib.figure.Figure at 0x7f16527de898>"
      ]
     },
     "metadata": {},
     "output_type": "display_data"
    }
   ],
   "source": [
    "%matplotlib inline\n",
    "\n",
    "import pygraphviz\n",
    "import networkx as nx\n",
    "from networkx.drawing.nx_agraph import read_dot\n",
    "G = read_dot(\"/home/sergiun/data/work/long/andersson/test/crass.18_05_2016_152828.keys.gv\")\n",
    "nx.draw(G,pos=nx.spring_layout(G))\n",
    "print (G.nodes())"
   ]
  },
  {
   "cell_type": "code",
   "execution_count": 11,
   "metadata": {},
   "outputs": [
    {
     "name": "stdout",
     "output_type": "stream",
     "text": [
      "['sp_18_1_C0', 'sp_67_1_C0', 'sp_36_1_C0']\n"
     ]
    },
    {
     "data": {
      "image/png": "[encoded data removed]",
      "text/plain": [
       "<matplotlib.figure.Figure at 0x7f1678460a20>"
      ]
     },
     "metadata": {},
     "output_type": "display_data"
    }
   ],
   "source": [
    "G = read_dot(\"/home/sergiun/data/work/long/andersson/test/Spacers_351_TTACTATATGGGGCGAGCCTGCGGACAGCTCTCCCTGAAGGGCCAA_spacers.gv\")\n",
    "nx.draw(G,pos=nx.spring_layout(G))\n",
    "print (G.nodes())"
   ]
  },
  {
   "cell_type": "code",
   "execution_count": 1,
   "metadata": {},
   "outputs": [],
   "source": [
    "import networkx as nx\n",
    "\n",
    "# plain graph\n",
    "\n",
    "G = nx.complete_graph(5)   # start with K5 in networkx\n",
    "A = nx.nx_agraph.to_agraph(G)        # convert to a graphviz graph\n",
    "X1 = nx.nx_agraph.from_agraph(A)     # convert back to networkx (but as Graph)\n",
    "X2 = nx.Graph(A)          # fancy way to do conversion\n",
    "G1 = nx.Graph(X1)          # now make it a Graph\n",
    "\n",
    "A.write('k5.dot')     # write to dot file\n",
    "X3 = nx.nx_agraph.read_dot('k5.dot') # read from dotfile"
   ]
  },
  {
   "cell_type": "code",
   "execution_count": 4,
   "metadata": {},
   "outputs": [
    {
     "data": {
      "text/plain": [
       "'1.11'"
      ]
     },
     "execution_count": 4,
     "metadata": {},
     "output_type": "execute_result"
    }
   ],
   "source": [
    "nx.__version__"
   ]
  },
  {
   "cell_type": "code",
   "execution_count": null,
   "metadata": {
    "collapsed": true
   },
   "outputs": [],
   "source": []
  }
 ],
 "metadata": {
  "hide_input": false,
  "kernelspec": {
   "display_name": "Python 3",
   "language": "python",
   "name": "python3"
  },
  "language_info": {
   "codemirror_mode": {
    "name": "ipython",
    "version": 3
   },
   "file_extension": ".py",
   "mimetype": "text/x-python",
   "name": "python",
   "nbconvert_exporter": "python",
   "pygments_lexer": "ipython3",
   "version": "3.6.4"
  }
 },
 "nbformat": 4,
 "nbformat_minor": 1
}
