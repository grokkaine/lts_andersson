{
 "cells": [
  {
   "cell_type": "markdown",
   "metadata": {},
   "source": [
    "# Transect data processing"
   ]
  },
  {
   "cell_type": "markdown",
   "metadata": {},
   "source": [
    "```\n",
    "# file path to the template script\n",
    "source_path: \"/proj/b2010008/nobackup/projects/crispr/sergiu/src/\"\n",
    "sample_names: ['P1994_116', 'P1994_111', 'P1994_117', 'P1994_128', 'P1994_120', 'P1994_113', 'P1994_108', 'P1994_130', 'P1994_101', 'P1994_102', 'P1994_106', 'P1994_115', 'P1994_121', 'P1994_125', 'P1994_105', 'P1994_110', 'P1994_118', 'P1994_122', 'P1994_112', 'P1994_104', 'P1994_103', 'P1994_126', 'P1994_123', 'P1994_129', 'P1994_107', 'P1994_119', 'P1994_109', 'P1994_124', 'P1994_127', 'P1994_114']\n",
    "run_dir: \"/proj/b2010008/nobackup/projects/crispr/data/transect/\"\n",
    "crass_location: \"/proj/b2010008/nobackup/projects/crispr/sergiu/bin/bin/\"\n",
    "# location of the raw files\n",
    "raw_files_dir: \"/pica/v9/b2014214_nobackup/BARM/internal_standards/unmapped_reads/\"\n",
    "```\n",
    "\n",
    "\n",
    "I will start by obtaining a file list\n",
    "\n",
    "```\n",
    "$ ls /pica/v9/b2014214_nobackup/BARM/internal_standards/unmapped_reads/P1994_*.gz > files.txt\n",
    "```\n",
    "\n",
    "These reads have the spike-ins removed. The reads containing reference sequences are at:\n",
    "\n",
    "/pica/v9/b2014214_nobackup/BARM/only_for_mapping/with_internal_standards/dna/P1994_1*fq.gz\n",
    "\n",
    "P1994_123 seems to have a lot of reference sequences. We decided to run Crass on that sample alone to see if we retrieve crispr clusters, but maybe we should run on everything if the program doesn't produce something conclusive.\n",
    "\n",
    "\n",
    "\n",
    "The reads without reference are here:\n",
    "/pica/v9/b2014214_nobackup/BARM/internal_standards/unmapped_reads/P1994_*.gz\n",
    "\n",
    "The reads with reference sequences included are here:\n",
    "/pica/v9/b2014214_nobackup/BARM/only_for_mapping/with_internal_standards/dna/P1994_1*fq.gz\n",
    "\n",
    "\n",
    "> P1994_123 seems to have a lot of reference sequences if that's what you'd like to have.\n",
    "\n",
    "\n",
    "#### Metadata:\n",
    "\n",
    "At: data/transect/transect_meta.txt\n",
    "\n",
    "The samples with a 2 in the \"Sampling_depth\" column are the surface samples.\n",
    "\n",
    "Here they are:\n",
    "[P1994_101, P1994_104, P1994_107, P1994_110, P1994_113, P1994_116, P1994_119, P1994_122, P1994_125, P1994_128]\n"
   ]
  },
  {
   "cell_type": "markdown",
   "metadata": {},
   "source": [
    "Just to double check on the transect data as well: I interpreted your lines below sent in late August to mean that reads at:\n",
    "\n",
    "/pica/v9/b2014214_nobackup/BARM/internal_standards/unmapped_reads/P1994_*.gz\n",
    "\n",
    "do NOT contain internal standards (are trimmed for adapters) and at teh time did not bother to check. However, looking now at the filenames it is suggesting spike ins are still present. So do they need trimming or not, and if they need trimming then what is the reference sequence? More generally, are you guys using \"adapter sequence\", \"internal standards\" and \"reference sequences\" as to mean the same thing?\n",
    "\n",
    "$ ls /pica/v9/b2014214_nobackup/BARM/internal_standards/unmapped_reads/P1994_*.gz\n",
    "/pica/v9/b2014214_nobackup/BARM/internal_standards/unmapped_reads/P1994_101_with_i_s_R1.fq.gz\n",
    "/pica/v9/b2014214_nobackup/BARM/internal_standards/unmapped_reads/P1994_101_with_i_s_R2.fq.gz\n",
    "/pica/v9/b2014214_nobackup/BARM/internal_standards/unmapped_reads/P1994_102_with_i_s_R1.fq.gz\n",
    "/pica/v9/b2014214_nobackup/BARM/internal_standards/unmapped_reads/P1994_102_with_i_s_R2.fq.gz\n",
    "...\n",
    "\n",
    "Grepping the main Illumina spikein on one sample produces about the same number of lines, so either there was no trimming or it trimmed for another adapter.\n",
    "\n",
    "```\n",
    "$ gunzip -c /pica/v9/b2014214_nobackup/BARM/internal_standards/unmapped_reads/P1994_101_with_i_s_R1.fq.gz | grep AGATCGGAAGA | wc -l\n",
    "7066\n",
    "$ gunzip -c /pica/v9/b2014214_nobackup/BARM/only_for_mapping/with_internal_standards/dna/P1994_101_with_i_s_R1.fq.gz | grep AGATCGGAAGA | wc -l\n",
    "7083\n",
    "```"
   ]
  },
  {
   "cell_type": "code",
   "execution_count": 9,
   "metadata": {
    "scrolled": true
   },
   "outputs": [
    {
     "name": "stdout",
     "output_type": "stream",
     "text": [
      "{'P1994_116', 'P1994_111', 'P1994_117', 'P1994_128', 'P1994_120', 'P1994_113', 'P1994_108', 'P1994_130', 'P1994_101', 'P1994_102', 'P1994_106', 'P1994_115', 'P1994_121', 'P1994_125', 'P1994_105', 'P1994_110', 'P1994_118', 'P1994_122', 'P1994_112', 'P1994_104', 'P1994_103', 'P1994_126', 'P1994_123', 'P1994_129', 'P1994_107', 'P1994_119', 'P1994_109', 'P1994_124', 'P1994_127', 'P1994_114'}\n"
     ]
    }
   ],
   "source": [
    "samples = set()\n",
    "with open(\"/home/sergiu/data/data/work/andersson/src/andersson/src/tmp/files.txt\") as f:\n",
    "    for l in f:\n",
    "        samples.add('_'.join(l.strip('\\n').split('/')[-1].split('_')[:2]))\n",
    "print(samples)"
   ]
  },
  {
   "cell_type": "markdown",
   "metadata": {
    "collapsed": true
   },
   "source": [
    "I run Snakemake using split screen, with:\n",
    "\n",
    "```\n",
    "# create the screen\n",
    "screen -S andersson-tsect\n",
    "# then ctrl a, ctrl d\n",
    "# bring the screen forward\n",
    "screen -rd andersson-tsect\n",
    "# see named screens\n",
    "screen -ls\n",
    "\n",
    "cd /proj/b2010008/nobackup/projects/crispr/data/transect/ && \\\n",
    "module use /proj/b2013006/sw/modules && \\\n",
    "module load miniconda3 && \\\n",
    "source activate andersson\n",
    "\n",
    "# run the pipeline on the login node in detached mode\n",
    "snakemake -s /proj/b2010008/nobackup/projects/crispr/sergiu/src/snakemake/Snakefile -j 99 --cluster-config /proj/b2010008/nobackup/projects/crispr/sergiu/src/snakemake/cluster.yaml --cluster \"sbatch -A {cluster.account} -t {cluster.time} -p {cluster.partition} -n {cluster.n}\"\n",
    "\n",
    "source deactivate andersson\n",
    "```"
   ]
  },
  {
   "cell_type": "markdown",
   "metadata": {},
   "source": [
    "```\n",
    "$ ls -lah\n",
    "53G 25 aug 12.55 transect_merged.fastq.gz\n",
    "```\n"
   ]
  },
  {
   "cell_type": "code",
   "execution_count": 4,
   "metadata": {},
   "outputs": [
    {
     "name": "stdout",
     "output_type": "stream",
     "text": [
      "@SRR3745603.1 1 length=150\n",
      "\n"
     ]
    }
   ],
   "source": [
    "import gzip\n",
    "\n",
    "#test_file = \"/home/sergiu/data/local/andersson/asko/merged.fastq.gz\"\n",
    "test_file = \"/proj/b2010008/nobackup/projects/crispr/data/transect/transect_merged.fastq.gz\"\n",
    "\n",
    "samples = ['P1994_116', 'P1994_111', 'P1994_117', 'P1994_128', 'P1994_120', 'P1994_113', \n",
    "           'P1994_108', 'P1994_130', 'P1994_101', 'P1994_102', 'P1994_106', 'P1994_115', \n",
    "           'P1994_121', 'P1994_125', 'P1994_105', 'P1994_110', 'P1994_118', 'P1994_122', \n",
    "           'P1994_112', 'P1994_104', 'P1994_103', 'P1994_126', 'P1994_123', 'P1994_129', \n",
    "           'P1994_107', 'P1994_119', 'P1994_109', 'P1994_124', 'P1994_127', 'P1994_114']\n",
    "\n",
    "## this failed for some reason\n",
    "#from Bio import SeqIO\n",
    "#with open(test_file, \"rt\") as handle:\n",
    "#    for record in SeqIO.parse(handle, \"fastq\"):\n",
    "#        print(record.id)\n",
    "\n",
    "\n",
    "with gzip.open(test_file, 'rt') as fin:\n",
    "    for line in fin:\n",
    "        if line[0] == '@':\n",
    "            print(line)\n",
    "            break\n"
   ]
  },
  {
   "cell_type": "code",
   "execution_count": null,
   "metadata": {
    "collapsed": true
   },
   "outputs": [],
   "source": [
    "^@(\\w*).*\n",
    ">>> import re\n",
    ">>> s = \"\"\"\n",
    "... \n",
    "... /dev/sda:\n",
    "... \n",
    "... ATA device, with non-removable media\n",
    "...     Model Number:       ST500DM002-1BD142                       \n",
    "...     Serial Number:      W2AQHKME\n",
    "...     Firmware Revision:  KC45    \n",
    "...     Transport:          Serial, SATA Rev 3.0\"\"\"\n",
    ">>> m = re.search(r'Model Number:\\s*([^\\n]+)', s)\n",
    ">>> m.group(1)\n",
    "'ST500DM002-1BD142'"
   ]
  },
  {
   "cell_type": "code",
   "execution_count": null,
   "metadata": {
    "collapsed": true
   },
   "outputs": [],
   "source": [
    "interactive -A b2010008 -c 1 --qos=short -t 15\n",
    "gunzip -c /pica/v9/b2014214_nobackup/BARM/internal_standards/unmapped_reads/P1994_101_with_i_s_R1.fq.gz | grep AGATCGGAAGA | wc -l >> ./amount.txt\n",
    "gunzip -c /pica/v9/b2014214_nobackup/BARM/only_for_mapping/with_internal_standards/dna/P1994_101_with_i_s_R1.fq.gz | grep AGATCGGAAGA | wc -l >> ./amount.txt"
   ]
  },
  {
   "cell_type": "markdown",
   "metadata": {
    "collapsed": true
   },
   "source": [
    "I moved the main chunk into \"temp_transect_merged.fastq.gz\" and I am continuing from sample 105_R2 onwards, but I will have to remove the 105_R2 reads from this file before merging.\n",
    "\n",
    "```\n",
    "Waiting bonus jobs:\n",
    "11626949    305      core snakejob.merge_samples.2.  sergiun       b2010008 PD                 N/A  9-00:00:00    50000    2       (Priority)       (null)\n",
    "```"
   ]
  },
  {
   "cell_type": "code",
   "execution_count": null,
   "metadata": {
    "collapsed": true
   },
   "outputs": [],
   "source": []
  }
 ],
 "metadata": {
  "kernelspec": {
   "display_name": "Python [default]",
   "language": "python",
   "name": "python3"
  },
  "language_info": {
   "codemirror_mode": {
    "name": "ipython",
    "version": 3
   },
   "file_extension": ".py",
   "mimetype": "text/x-python",
   "name": "python",
   "nbconvert_exporter": "python",
   "pygments_lexer": "ipython3",
   "version": "3.6.4"
  }
 },
 "nbformat": 4,
 "nbformat_minor": 2
}
