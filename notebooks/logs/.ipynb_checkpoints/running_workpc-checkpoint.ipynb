{
 "cells": [
  {
   "cell_type": "markdown",
   "metadata": {},
   "source": [
    "# Running a few more samples on my workstation"
   ]
  },
  {
   "cell_type": "markdown",
   "metadata": {},
   "source": [
    "/proj/b2014214/nobackup/crispr/data/lmo_2012/finished_reads\n",
    "/home/sergiu/data/data/andersson\n",
    "\n",
    "From Jonannes:\n",
    "> The lmo_2012 data is published in the article here http://genomebiology.biomedcentral.com/articles/10.1186/s13059-015-0834-7,\n",
    "and the data is available on ncbi here:\n",
    "http://www.ncbi.nlm.nih.gov/sra?term=SRP058493\n",
    "There are both fastq files and MAG-assembly files available.\n",
    "Regarding the sample info I put the file crispr_sample_info.csv into the data dir which contains the physical metadata.\n",
    "I attached a multiqc report for all the samples based on the fastqc output. This file is available on uppmax as well along with the raw data it is based on.\n",
    "\n",
    "And a small note from Crass on paired-end data:\n",
    "> Pairing information from paired end sequencing is not used by Crass; Crass can take paired end reads but it treats each read as unpaired."
   ]
  },
  {
   "cell_type": "markdown",
   "metadata": {
    "collapsed": true
   },
   "source": [
    "## Python launcher\n",
    "\n",
    "To prepare the automatic handling of all batches, I am making an automatic launcher.\n",
    "\n",
    "I have an error on teh new batches, described here:\n",
    "https://github.com/ctSkennerton/crass/issues/84"
   ]
  },
  {
   "cell_type": "code",
   "execution_count": null,
   "metadata": {
    "collapsed": true
   },
   "outputs": [],
   "source": [
    "from Bio import SeqIO\n",
    "sequence_dict = SeqIO.to_dict(SeqIO.parse(\"input.fastq\", \"fastq\"))\n",
    "for k in sequence_dict :\n",
    "print(k, len(sequence_dict[k]))"
   ]
  }
 ],
 "metadata": {
  "kernelspec": {
   "display_name": "Python 2",
   "language": "python",
   "name": "python2"
  },
  "language_info": {
   "codemirror_mode": {
    "name": "ipython",
    "version": 2
   },
   "file_extension": ".py",
   "mimetype": "text/x-python",
   "name": "python",
   "nbconvert_exporter": "python",
   "pygments_lexer": "ipython2",
   "version": "2.7.12"
  }
 },
 "nbformat": 4,
 "nbformat_minor": 1
}
