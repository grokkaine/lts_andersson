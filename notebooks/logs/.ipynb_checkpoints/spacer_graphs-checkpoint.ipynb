{
 "cells": [
  {
   "cell_type": "markdown",
   "metadata": {},
   "source": [
    "# Spacer graph interface (used as LTS log file example)\n",
    "\n",
    "This is not very super useful, just a small studied example of a web GUI, a log file and the final handout for the purpose of improving research reproducibility. Something I did not mention is that the functionality of the notebook can be expanded with extensions (example: drag and drops, advanced editing toolboxes, TOCs), but it is better not to use them at all in this introductory example and have a more basic and clean notebook."
   ]
  },
  {
   "cell_type": "markdown",
   "metadata": {},
   "source": [
    "### A get things done box:\n",
    "\n",
    "TODO:\n",
    "- Investigate why graphs containing so many spacers and flankers can be so tiny.\n",
    "\n",
    "NEXT:\n",
    "- Wait for LTS feedback\n",
    "\n",
    "DONE:\n",
    "- Make an introduction\n",
    "- Add the crispr statistics script from the log files.\n",
    "- Add the spacer graph display script.\n",
    "- Present the widgets.\n",
    "- Make a search and display box\n",
    "- Assemble the code outside\n",
    "- Load the code into the notebook and test\n",
    "- Publish this on BitBucket and link into the Jupyter guide.\n"
   ]
  },
  {
   "cell_type": "markdown",
   "metadata": {},
   "source": [
    "### Making an introduction\n",
    "\n",
    "CRISPRs are chains of unique spacer sequences flanked by highly conserved direct repeats. The spacers are resulted from a prokaryotic cell interaction with a viral pathogen. In Andersson_2016 project we try to identify CRISPR regions in metagenomes using a program named Crass. The program churns the reads looking for direct repeats flanking a spacer sequence. It then assembles a graph, in which the nodes are spacer sequences and the linkage is made based on identified direct repeats. The program installation and run was documented elsewhere, and scripts were made for investigating the results and plotting the graphs. In this notebook we want to document making a tiny GUI interface, code assembly ouside the notebook and loading/running the external program."
   ]
  },
  {
   "cell_type": "code",
   "execution_count": null,
   "metadata": {
    "collapsed": false,
    "scrolled": true
   },
   "outputs": [],
   "source": [
    "from IPython.core.display import HTML\n",
    "HTML('<iframe src=https://en.wikipedia.org/wiki/CRISPR width=700 height=350>')"
   ]
  },
  {
   "cell_type": "markdown",
   "metadata": {
    "collapsed": true
   },
   "source": [
    "### Add the crispr statistics script from the log files.\n"
   ]
  },
  {
   "cell_type": "code",
   "execution_count": null,
   "metadata": {
    "collapsed": false
   },
   "outputs": [],
   "source": [
    "%matplotlib inline\n",
    "import os\n",
    "os.chdir(\"/home/sergiun/projects/andersson/src/andersson/\")\n",
    "import subprocess\n",
    "from io import StringIO\n",
    "import pandas as pd\n",
    "cmd = \"crisprtools stat -aH ./data/test/crass.crispr\"\n",
    "p = subprocess.run(cmd.split(), stdout=subprocess.PIPE)\n",
    "fbuff = StringIO(p.stdout.decode('utf-8'))\n",
    "df = pd.read_csv(fbuff, sep=\"\\t\")\n",
    "df.sort_values('# Flankers', ascending = 0, inplace = 1)"
   ]
  },
  {
   "cell_type": "markdown",
   "metadata": {},
   "source": [
    "How the above script works is not important. To see more details visit the log page at [crisprtools.ipynb](crisprtools.ipynb)."
   ]
  },
  {
   "cell_type": "code",
   "execution_count": null,
   "metadata": {
    "collapsed": false
   },
   "outputs": [],
   "source": [
    "df.head()"
   ]
  },
  {
   "cell_type": "markdown",
   "metadata": {},
   "source": [
    "We can use the table to sort out spacer groups. The spacer groups are resulted from single linkage clustering of the identified direct repeats. It may be from a species or an individual, but since this is metagenomics data it is hard to be sure."
   ]
  },
  {
   "cell_type": "markdown",
   "metadata": {},
   "source": [
    "Before we move on, we need to implement some query mechanism too. (I actually returned here from the code assembly, but as I specified in the Jupyter guide, it is better to follow the logic workflow rather than a time line)."
   ]
  },
  {
   "cell_type": "code",
   "execution_count": null,
   "metadata": {
    "collapsed": false
   },
   "outputs": [],
   "source": [
    "v = 'G37640'\n",
    "q = df[df.GID == v]\n",
    "if q.shape[0]>0 and q.shape[0]<2:\n",
    "    print(v,q.iloc[0,1])\n",
    "    "
   ]
  },
  {
   "cell_type": "code",
   "execution_count": null,
   "metadata": {
    "collapsed": false
   },
   "outputs": [],
   "source": [
    "q"
   ]
  },
  {
   "cell_type": "markdown",
   "metadata": {},
   "source": [
    "In order for you to reproduce these results without installing project related programs, I am also saving the dataframe."
   ]
  },
  {
   "cell_type": "code",
   "execution_count": null,
   "metadata": {
    "collapsed": false
   },
   "outputs": [],
   "source": [
    "df.to_csv('data/test/crispr.df.csv')\n",
    "df2 = pd.read_csv('data/test/crispr.df.csv', index_col = 0)\n",
    "df2.head()"
   ]
  },
  {
   "cell_type": "markdown",
   "metadata": {},
   "source": [
    "### Add the spacer graph display script\n",
    "\n",
    "Let us display one such spacer graph. The details are at [crass_fulltest.ipynb](crass_fulltest.ipynb) including a nicer graph plot, but we are again less interested in that. So this script can plot the spacer graph for a given GID ..."
   ]
  },
  {
   "cell_type": "code",
   "execution_count": null,
   "metadata": {
    "collapsed": false
   },
   "outputs": [],
   "source": [
    "import pygraphviz\n",
    "import networkx as nx\n",
    "from networkx.drawing.nx_agraph import read_dot\n",
    "import matplotlib.pyplot as plt\n",
    "\n",
    "G = read_dot(\"data/test/Spacers_1432_GTATTGGCCCCCTTTAAATTGTGGGGCAACTGAAACTA_spacers.gv\")\n",
    "plt.figure(figsize=(10,10), facecolor=\"w\", frameon=False)\n",
    "pos=nx.spring_layout(G)\n",
    "offset = .05\n",
    "pos_labels = {}\n",
    "keys = pos.keys()\n",
    "for key in keys:\n",
    "    x, y = pos[key]\n",
    "    pos_labels[key] = (x, y+offset)\n",
    "\n",
    "node_colors = [ G.node[key]['fillcolor'] for key in G.node ]\n",
    "nx.draw_networkx_nodes(G, pos, node_size=1200, node_shape='o', node_color=node_colors)\n",
    "nx.draw_networkx_edges(G, pos, width=2, edge_color='b')\n",
    "nx.draw_networkx_labels(G, pos_labels, fontsize=2)\n",
    "#plt.show()\n",
    "#plt.savefig('test.png')"
   ]
  },
  {
   "cell_type": "markdown",
   "metadata": {},
   "source": [
    "### Widget presentation\n",
    "\n",
    "The purpose of this notebook is to get an elegant functionality, and elegant displays use some form of GUI. We will use this: [https://github.com/ipython/ipywidgets](https://github.com/ipython/ipywidgets). The page contains many examples, so it is easy to fabricate something for your needs.\n",
    "\n",
    "Here is a slider example."
   ]
  },
  {
   "cell_type": "code",
   "execution_count": null,
   "metadata": {
    "collapsed": false
   },
   "outputs": [],
   "source": [
    "from ipywidgets import *\n",
    "from IPython.display import display\n",
    "w = IntSlider()\n",
    "display(w)"
   ]
  },
  {
   "cell_type": "markdown",
   "metadata": {},
   "source": [
    "### Make a search and display box"
   ]
  },
  {
   "cell_type": "code",
   "execution_count": null,
   "metadata": {
    "collapsed": false
   },
   "outputs": [],
   "source": [
    "tb = widgets.Text(\n",
    "    description='GID:',\n",
    "    value='',\n",
    ")\n",
    "bt = widgets.Button(description='Search')\n",
    "\n",
    "HBox([tb, bt])"
   ]
  },
  {
   "cell_type": "code",
   "execution_count": null,
   "metadata": {
    "collapsed": false
   },
   "outputs": [],
   "source": [
    "tb.value"
   ]
  },
  {
   "cell_type": "markdown",
   "metadata": {},
   "source": [
    "Awesome, now some event."
   ]
  },
  {
   "cell_type": "code",
   "execution_count": null,
   "metadata": {
    "collapsed": false
   },
   "outputs": [],
   "source": [
    "def on_button_clicked(b):\n",
    "    print(\"Button clicked. Value\", tb.value)\n",
    "\n",
    "bt.on_click(on_button_clicked)"
   ]
  },
  {
   "cell_type": "markdown",
   "metadata": {},
   "source": [
    "Clicking the button above will now display the text. I have all I need to insert the proper functionality. Except that it didn't work when I assembled the code, until I figured out that I have to dispatch the display call on my layout box."
   ]
  },
  {
   "cell_type": "code",
   "execution_count": null,
   "metadata": {
    "collapsed": false
   },
   "outputs": [],
   "source": [
    "tb = widgets.Text(\n",
    "    description='GID:',\n",
    "    value='',\n",
    ")\n",
    "bt = widgets.Button(description='Search')\n",
    "box = HBox([tb, bt])\n",
    "display(box)\n",
    "def on_button_clicked(b):\n",
    "    print(\"Button clicked. Value\", tb.value)\n",
    "\n",
    "bt.on_click(on_button_clicked)"
   ]
  },
  {
   "cell_type": "markdown",
   "metadata": {},
   "source": [
    "### Assembly the code\n",
    "\n",
    "While I normally do this on a code editor, I will make the assembly here this time then copy paste it into a source file. I am also changing the locations of some files, so this will break backward compatibility with the log files.  Log files are not important to maintain in terms of reproducible, they increase reproducibility by having a verbose workflow. Handouts though must insure reproducible data access as well. It falls out of our current scope."
   ]
  },
  {
   "cell_type": "code",
   "execution_count": 1,
   "metadata": {
    "code_folding": [],
    "collapsed": false
   },
   "outputs": [
    {
     "ename": "NameError",
     "evalue": "name 'os' is not defined",
     "output_type": "error",
     "traceback": [
      "\u001b[1;31m---------------------------------------------------------------------------\u001b[0m",
      "\u001b[1;31mNameError\u001b[0m                                 Traceback (most recent call last)",
      "\u001b[1;32m<ipython-input-1-ac514842ba61>\u001b[0m in \u001b[0;36m<module>\u001b[1;34m()\u001b[0m\n\u001b[1;32m----> 1\u001b[1;33m \u001b[0mos\u001b[0m\u001b[1;33m.\u001b[0m\u001b[0mchdir\u001b[0m\u001b[1;33m(\u001b[0m\u001b[1;34m\"/home/sergiun/projects/andersson/src/andersson/src/\"\u001b[0m\u001b[1;33m)\u001b[0m\u001b[1;33m\u001b[0m\u001b[0m\n\u001b[0m\u001b[0;32m      2\u001b[0m \u001b[0mget_ipython\u001b[0m\u001b[1;33m(\u001b[0m\u001b[1;33m)\u001b[0m\u001b[1;33m.\u001b[0m\u001b[0mmagic\u001b[0m\u001b[1;33m(\u001b[0m\u001b[1;34m'pylab inline'\u001b[0m\u001b[1;33m)\u001b[0m\u001b[1;33m\u001b[0m\u001b[0m\n\u001b[0;32m      3\u001b[0m \u001b[1;33m\u001b[0m\u001b[0m\n\u001b[0;32m      4\u001b[0m \u001b[1;32mimport\u001b[0m \u001b[0mos\u001b[0m\u001b[1;33m\u001b[0m\u001b[0m\n\u001b[0;32m      5\u001b[0m \u001b[1;32mimport\u001b[0m \u001b[0msubprocess\u001b[0m\u001b[1;33m\u001b[0m\u001b[0m\n",
      "\u001b[1;31mNameError\u001b[0m: name 'os' is not defined"
     ]
    }
   ],
   "source": [
    "\n",
    "%pylab inline\n",
    "\n",
    "import os\n",
    "os.chdir(\"/home/sergiun/projects/andersson/src/andersson/src/\")\n",
    "import subprocess\n",
    "from io import StringIO\n",
    "import pandas as pd\n",
    "import pygraphviz\n",
    "import networkx as nx\n",
    "from networkx.drawing.nx_agraph import read_dot\n",
    "import matplotlib.pyplot as plt\n",
    "from ipywidgets import *\n",
    "from IPython.display import display\n",
    "\n",
    "def get_crispr_df_4real(v):\n",
    "    cmd = \"crisprtools stat -aH ../data/test/crass.crispr\"\n",
    "    p = subprocess.run(cmd.split(), stdout=subprocess.PIPE)\n",
    "    fbuff = StringIO(p.stdout.decode('utf-8'))\n",
    "    df = pd.read_csv(fbuff, sep=\"\\t\")\n",
    "    q = df[df.GID == v]\n",
    "    seq = None\n",
    "    if q.shape[0]>0 and q.shape[0]<2:\n",
    "        seq = q.iloc[0,1]\n",
    "    return seq\n",
    "\n",
    "def get_crispr_df_4fun(v):\n",
    "    df = pd.read_csv('../data/test/crispr.df.csv', index_col = 0)\n",
    "    q = df[df.GID == v]\n",
    "    seq = None\n",
    "    if q.shape[0]>0 and q.shape[0]<2:\n",
    "        seq = q.iloc[0,1]\n",
    "    return seq\n",
    "\n",
    "def plot_spacer_graph(gid, seq):\n",
    "    G = read_dot(\"../data/test/Spacers_\"+gid[1:]+\"_\"+seq+\"_spacers.gv\")\n",
    "    plt.figure(figsize=(10,10), facecolor=\"w\", frameon=False)\n",
    "    pos=nx.spring_layout(G)\n",
    "    offset = .05\n",
    "    pos_labels = {}\n",
    "    keys = pos.keys()\n",
    "    for key in keys:\n",
    "        x, y = pos[key]\n",
    "        pos_labels[key] = (x, y+offset)\n",
    "\n",
    "    node_colors = [ G.node[key]['fillcolor'] for key in G.node ]\n",
    "    nx.draw_networkx_nodes(G, pos, node_size=1200, node_shape='o', node_color=node_colors)\n",
    "    nx.draw_networkx_edges(G, pos, width=2, edge_color='b')\n",
    "    nx.draw_networkx_labels(G, pos_labels, fontsize=2)\n",
    "    plt.show()\n",
    "    return\n",
    "\n",
    "tb = widgets.Text(\n",
    "    description='GID:',\n",
    "    value='',\n",
    ")\n",
    "bt = widgets.Button(description='Search')\n",
    "box = HBox([tb, bt])\n",
    "display(box)\n",
    "def on_button_clicked(b):\n",
    "    print(\"Searching for\", tb.value)\n",
    "    seq = get_crispr_df_4fun(tb.value)\n",
    "    if not seq==None:\n",
    "        plot_spacer_graph(tb.value, seq)\n",
    "    else:\n",
    "        print('No spacer graph found!')\n",
    "bt.on_click(on_button_clicked)"
   ]
  },
  {
   "cell_type": "markdown",
   "metadata": {},
   "source": [
    "And now, the long awaited moment of scientific discovery. It seems the number of spacers and flankers is not a good indicator for graph size, probably because they are collapsed based on similarity.\n",
    "\n",
    "***TODO: investigate this further!***"
   ]
  },
  {
   "cell_type": "markdown",
   "metadata": {},
   "source": [
    "### Load the code into the notebook and test\n",
    "\n",
    "So now we want to place the code above in a source file and call it remotely. There are different ways to do this, I will show only one for the time being, probably the uggliest too. But also the easiest."
   ]
  },
  {
   "cell_type": "code",
   "execution_count": 14,
   "metadata": {
    "collapsed": false
   },
   "outputs": [
    {
     "name": "stdout",
     "output_type": "stream",
     "text": [
      "Populating the interactive namespace from numpy and matplotlib\n"
     ]
    },
    {
     "name": "stderr",
     "output_type": "stream",
     "text": [
      "WARNING: pylab import has clobbered these variables: ['interactive', 'box', 'Button', 'Text', 'Widget']\n",
      "`%matplotlib` prevents importing * from pylab and numpy\n"
     ]
    }
   ],
   "source": [
    "%pylab inline"
   ]
  },
  {
   "cell_type": "code",
   "execution_count": 19,
   "metadata": {
    "collapsed": false,
    "scrolled": true
   },
   "outputs": [
    {
     "name": "stdout",
     "output_type": "stream",
     "text": [
      "Help on function plot_spacer_graph_by_ID in module graph_retrieval:\n",
      "\n",
      "plot_spacer_graph_by_ID(crispr_path, graph_path, gid)\n",
      "    Plots the spacer graph on a Jupyter notebook.\n",
      "    :param crispr_path: Path to the .crispr file.\n",
      "    :param graph_path: Path to the directory containing the spacer graphs.\n",
      "    :param gid: The group id of the spacer graph.\n",
      "    :return:\n",
      "\n",
      "Searching for G37640\n"
     ]
    },
    {
     "data": {
      "image/png": "[encoded data removed]",
      "text/plain": [
       "<matplotlib.figure.Figure at 0x7f150ad04278>"
      ]
     },
     "metadata": {},
     "output_type": "display_data"
    }
   ],
   "source": [
    "##%run /home/sergiun/projects/andersson/src/andersson/src/graph_retrieval.py\n",
    "\n",
    "import os\n",
    "os.chdir('/home/sergiun/projects/andersson/src/andersson/src/')\n",
    "import graph_retrieval as gr\n",
    "gr.search_box()"
   ]
  },
  {
   "cell_type": "markdown",
   "metadata": {},
   "source": [
    "Worked like a trojan! The notebook can also be used as an OS terminal, a console to multiple languages, and an editor. Here follow a few examples:"
   ]
  },
  {
   "cell_type": "code",
   "execution_count": 21,
   "metadata": {
    "collapsed": false
   },
   "outputs": [
    {
     "name": "stdout",
     "output_type": "stream",
     "text": [
      "Help on function plot_spacer_graph_by_ID in module graph_retrieval:\n",
      "\n",
      "plot_spacer_graph_by_ID(crispr_path, graph_path, gid)\n",
      "    Plots the spacer graph on a Jupyter notebook.\n",
      "    :param crispr_path: Path to the .crispr file.\n",
      "    :param graph_path: Path to the directory containing the spacer graphs.\n",
      "    :param gid: The group id of the spacer graph.\n",
      "    :return:\n",
      "\n",
      "configure_test.yaml  graph_retrieval.py  __init__.py  pipeline.py  __pycache__\r\n"
     ]
    }
   ],
   "source": [
    "help(gr.plot_spacer_graph_by_ID)\n",
    "!ls ./"
   ]
  },
  {
   "cell_type": "code",
   "execution_count": null,
   "metadata": {
    "collapsed": true
   },
   "outputs": [],
   "source": [
    "# %load graph_retrieval.py\n",
    "import os\n",
    "import subprocess\n",
    "from io import StringIO\n",
    "import pandas as pd\n",
    "# import pygraphviz\n",
    "import networkx as nx\n",
    "from networkx.drawing.nx_agraph import read_dot\n",
    "import matplotlib.pyplot as plt\n",
    "\n",
    "\n",
    "def get_crispr_df(fsource):\n",
    "    cmd = \"crisprtools stat -aH \" + fsource\n",
    "    p = subprocess.run(cmd.split(), stdout=subprocess.PIPE)\n",
    "    fbuff = StringIO(p.stdout.decode('utf-8'))\n",
    "    df = pd.read_csv(fbuff, sep=\"\\t\")\n",
    "    return df\n",
    "\n",
    "\n",
    "def get_crispr_df_4fun(v):\n",
    "    df = pd.read_csv('../data/test/crispr.df.csv', index_col=0)\n",
    "    q = df[df.GID == v]\n",
    "    seq = None\n",
    "    if 0 < q.shape[0] < 2:\n",
    "        seq = q.iloc[0, 1]\n",
    "    return seq\n",
    "\n",
    "\n",
    "def draw_graph(dot_fpath):\n",
    "    G = read_dot(dot_fpath)\n",
    "    plt.figure(figsize=(10, 10), facecolor=\"w\", frameon=False)\n",
    "    pos = nx.spring_layout(G)\n",
    "    offset = .05\n",
    "    pos_labels = {}\n",
    "    keys = pos.keys()\n",
    "    for key in keys:\n",
    "        x, y = pos[key]\n",
    "        pos_labels[key] = (x, y + offset)\n",
    "\n",
    "    node_colors = [G.node[key]['fillcolor'] for key in G.node]\n",
    "    nx.draw_networkx_nodes(G, pos, node_size=1200, node_shape='o', node_color=node_colors)\n",
    "    nx.draw_networkx_edges(G, pos, width=2, edge_color='b')\n",
    "    nx.draw_networkx_labels(G, pos_labels, fontsize=2)\n",
    "    return\n",
    "\n",
    "\n",
    "def plot_spacer_graph(dpath, gid, seq):\n",
    "    dot_fpath = dpath + \"Spacers_\" + gid[1:] + \"_\" + seq + \"_spacers.gv\"\n",
    "    draw_graph(dot_fpath)\n",
    "    plt.show()\n",
    "    return\n",
    "\n",
    "\n",
    "def plot_spacer_graph_by_ID(crispr_path, graph_path, gid):\n",
    "    \"\"\"\n",
    "    Plots the spacer graph on a Jupyter notebook.\n",
    "    :param crispr_path: Path to the .crispr file.\n",
    "    :param graph_path: Path to the directory containing the spacer graphs.\n",
    "    :param gid: The group id of the spacer graph.\n",
    "    :return:\n",
    "    \"\"\"\n",
    "    df = get_crispr_df(crispr_path)\n",
    "    q = df[df.GID == gid]\n",
    "    seq = None\n",
    "    if 0 < q.shape[0] < 2:\n",
    "        seq = q.iloc[0, 1]\n",
    "        plot_spacer_graph(graph_path, gid, seq)\n",
    "    else:\n",
    "        print(\"The graph\", gid, \"could not be identified on the .crispr file!\")\n",
    "    return\n",
    "\n",
    "\n",
    "def save_spacer_graph(dpath, gid, seq, dout):\n",
    "    dot_fpath = dpath + \"Spacers_\" + gid[1:] + \"_\" + seq + \"_spacers.gv\"\n",
    "    if os.path.isfile(dot_fpath):\n",
    "        draw_graph(dot_fpath)\n",
    "        plt.savefig(dout + gid + '.png')\n",
    "        plt.close(\"all\")  # clearing the RAM\n",
    "        print(\"Graph\", gid, \"saved at\", dout)\n",
    "    else:\n",
    "        print(\"File not found at\", dot_fpath)\n",
    "    return\n",
    "\n",
    "\n",
    "def search_box():\n",
    "    import ipywidgets as ipyw\n",
    "    from IPython.display import display\n",
    "    tb = ipyw.widgets.Text(\n",
    "        description='GID:',\n",
    "        value='G37640',\n",
    "    )\n",
    "    tbpath = ipyw.widgets.Text(\n",
    "        description='Path:',\n",
    "        value='../data/test/',\n",
    "    )\n",
    "    bt = ipyw.widgets.Button(description='Search')\n",
    "    box = ipyw.HBox([tb, tbpath, bt])\n",
    "    display(box)\n",
    "\n",
    "    def on_button_clicked(b):\n",
    "        print(\"Searching for\", tb.value)\n",
    "        seq = get_crispr_df_4fun(tb.value)\n",
    "        if seq is not None:\n",
    "            plot_spacer_graph(tbpath.value, tb.value, seq)\n",
    "        else:\n",
    "            print('No spacer graph found!')\n",
    "\n",
    "    bt.on_click(on_button_clicked)\n",
    "    return\n",
    "\n",
    "\n",
    "def generate_all_graphs(fsource, dpath, dout):\n",
    "    \"\"\"\n",
    "    Generate all spacer graph plots, given a .crispr file source.\n",
    "    :param fsource: The .crispr file path.\n",
    "    :param dpath: Path to the directory where the spacer .gv graphs are located.\n",
    "    :param dout: Path to the directory where the graph images must be generated.\n",
    "    :return:\n",
    "    \"\"\"\n",
    "    if not os.path.exists(dout):\n",
    "        os.mkdir(dout)\n",
    "    df = get_crispr_df(fsource)\n",
    "    gids = df.GID.values  # get the graph ids from the crispr file\n",
    "    for gid in gids:\n",
    "        q = df[df.GID == gid]\n",
    "        seq = None\n",
    "        if 0 < q.shape[0] < 2:\n",
    "            seq = q.iloc[0, 1]\n",
    "        save_spacer_graph(dpath, gid, seq, dout)\n",
    "    return\n"
   ]
  },
  {
   "cell_type": "code",
   "execution_count": null,
   "metadata": {
    "collapsed": true
   },
   "outputs": [],
   "source": [
    "%%writefile filename.py\n",
    "# must be at the beginning of the cell\n",
    "print(\"Hello!\")"
   ]
  },
  {
   "cell_type": "markdown",
   "metadata": {},
   "source": [
    "That's it for now, I wanted to make a clean example of how a research log should look like, and also to give an idea of how a handout should be. We don't need to show our collaborators a lot of code, but having the log and the source code it is easy to get this research reproduced.\n",
    "\n",
    "Research notebooks should not only be a life saver for wet lab gurus. Now do the exercise of imagining having to redo all of this and seeing only a mess of code and files, that you have no recollection of!"
   ]
  },
  {
   "cell_type": "code",
   "execution_count": null,
   "metadata": {
    "collapsed": true
   },
   "outputs": [],
   "source": []
  }
 ],
 "metadata": {
  "hide_input": false,
  "kernelspec": {
   "display_name": "Python 3",
   "language": "python",
   "name": "python3"
  },
  "language_info": {
   "codemirror_mode": {
    "name": "ipython",
    "version": 3
   },
   "file_extension": ".py",
   "mimetype": "text/x-python",
   "name": "python",
   "nbconvert_exporter": "python",
   "pygments_lexer": "ipython3",
   "version": "3.5.1"
  },
  "toc": {
   "toc_cell": false,
   "toc_number_sections": true,
   "toc_threshold": 6,
   "toc_window_display": false
  }
 },
 "nbformat": 4,
 "nbformat_minor": 0
}
