{
 "cells": [
  {
   "cell_type": "markdown",
   "metadata": {},
   "source": [
    "# LMO - combined experiment\n",
    "\n",
    "We decided to re-run the combined LMO samples through Crass. On Rackham, the sample are at\n",
    "\n",
    "```\n",
    "/proj/uppstore2017125/b2014214_nobackup/preprocessing/fastuniq/quality_adapter_no_indices/P4201_1*_R{1,2}.fq.gz \n",
    "\n",
    "/proj/uppstore2017125/b2014214_nobackup/BARM/fastuniq/quality_adapter_no_indices/12*_R{1,2}.fq.gz\n",
    "\n",
    "$ ls -l /proj/uppstore2017125/b2014214_nobackup/BARM/fastuniq/quality_adapter_no_indices/12*_R{1,2}.fq.gz | awk '{ total += $5 }; END { print total }'\n",
    "59563530280\n",
    "$ ls -l /proj/uppstore2017125/b2014214_nobackup/preprocessing/fastuniq/quality_adapter_no_indices/P4201_1*_R{1,2}.fq.gz | awk '{ total += $5 }; END { print total }'\n",
    "69362815167\n",
    "\n",
    "\n",
    "```"
   ]
  },
  {
   "cell_type": "code",
   "execution_count": 2,
   "metadata": {},
   "outputs": [
    {
     "data": {
      "text/plain": [
       "120.07201597746462"
      ]
     },
     "execution_count": 2,
     "metadata": {},
     "output_type": "execute_result"
    }
   ],
   "source": [
    "total = 59563530280 + 69362815167\n",
    "total/(1024**3)"
   ]
  },
  {
   "cell_type": "markdown",
   "metadata": {},
   "source": [
    "So 120 GB in total, let's hope it works..."
   ]
  },
  {
   "cell_type": "code",
   "execution_count": 6,
   "metadata": {},
   "outputs": [
    {
     "name": "stdout",
     "output_type": "stream",
     "text": [
      "59 {'120813', 'P4201_117', '121123', 'P4201_123', 'P4201_120', 'P4201_109', 'P4201_111', '120322', '120604', '120924', '121022', 'P4201_107', '120516', '121220', 'P4201_114', '120920', 'P4201_122', '120423', '121001', 'P4201_105', '120507', '120328', '120717', 'P4201_108', '120314', '120802', '121015', 'P4201_118', '120403', '121128', '120705', '120903', '120419', '120823', '120613', '120820', 'P4201_104', 'P4201_103', '120628', 'P4201_101', '120709', 'P4201_119', 'P4201_110', 'P4201_121', 'P4201_124', '120416', '120521', '120806', '120619', 'P4201_102', '121004', 'P4201_106', 'P4201_116', '121105', 'P4201_112', '120531', '121028', '120828', '120910'}\n"
     ]
    }
   ],
   "source": [
    "samples = set()\n",
    "with open(\"/home/sergiu/Downloads/files.txt\") as f:\n",
    "    for l in f:\n",
    "        filen = l.strip('\\n').split('/')[-1]\n",
    "        if filen.startswith(\"P4201\"):\n",
    "            samples.add(\"_\".join(filen.split('_')[:2]))\n",
    "        if filen.startswith(\"12\"):\n",
    "            samples.add(filen.split('_')[0])\n",
    "print(len(samples),samples)"
   ]
  },
  {
   "cell_type": "markdown",
   "metadata": {},
   "source": [
    "configure.yaml:\n",
    "\n",
    "```\n",
    "name: LMO_all_rackham\n",
    "description: Snakemake processing of the combined LMO samples\n",
    "location: rackham\n",
    "date: 22 mar 2018\n",
    "run: yes\n",
    "# directory path to the source code\n",
    "source_path: \"/proj/uppstore2017124/b2010008_nobackup/projects/crispr/sergiu/src/\"\n",
    "# directory path to the temporary sbatch submission script\n",
    "run_dir: \"/proj/uppstore2017124/b2010008_nobackup/projects/crispr/data/lmo_all/\"\n",
    "# SRA sample names\n",
    "sample_names: ['120813', 'P4201_117', '121123', 'P4201_123', 'P4201_120', 'P4201_109', 'P4201_111', '120322', '120604', '120924', '121022', 'P4201_107', '120516', '121220', 'P4201_114', '120920', 'P4201_122', '120423', '121001', 'P4201_105', '120507', '120328', '120717', 'P4201_108', '120314', '120802', '121015', 'P4201_118', '120403', '121128', '120705', '120903', '120419', '120823', '120613', '120820', 'P4201_104', 'P4201_103', '120628', 'P4201_101', '120709', 'P4201_119', 'P4201_110', 'P4201_121', 'P4201_124', '120416', '120521', '120806', '120619', 'P4201_102', '121004', 'P4201_106', 'P4201_116', '121105', 'P4201_112', '120531', '121028', '120828', '120910']\n",
    "crass_location: \"/home/sergiun/bin/crass/bin/\"\n",
    "```\n",
    "\n",
    "The new projects on Rackham:\n",
    "- snic2017-1-581\n",
    "- uppstore2017124"
   ]
  },
  {
   "cell_type": "markdown",
   "metadata": {},
   "source": [
    "## Running\n",
    "\n",
    "\n",
    "```\n",
    "# create the screen\n",
    "screen -S andersson-lmo\n",
    "# then ctrl a, ctrl d\n",
    "# bring the screen forward\n",
    "screen -rd andersson-lmo\n",
    "# see named screens\n",
    "screen -ls\n",
    "\n",
    "cd /proj/uppstore2017124/b2010008_nobackup/projects/crispr/data/lmo_all/ && \\\n",
    "source activate andersson\n",
    "\n",
    "# run the pipeline on the login node in detached mode\n",
    "snakemake -s /proj/uppstore2017124/b2010008_nobackup/projects/crispr/sergiu/src/snakemake/Snakefile -j 99 --cluster-config /proj/uppstore2017124/b2010008_nobackup/projects/crispr/sergiu/src/snakemake/cluster.yaml --cluster \"sbatch -A {cluster.account} -t {cluster.time} -p {cluster.partition} -n {cluster.n}\"\n",
    "```"
   ]
  },
  {
   "cell_type": "markdown",
   "metadata": {},
   "source": [
    "## Test\n",
    "\n",
    "/proj/uppstore2017124/b2010008_nobackup/projects/crispr/data/lmo_all/test/\n",
    "/proj/uppstore2017124/b2010008_nobackup/projects/crispr/data/lmo_all/test/src/\n",
    "\n",
    "cd /proj/uppstore2017124/b2010008_nobackup/projects/crispr/data/lmo_all/test/ && \\\n",
    "source activate andersson\n",
    "\n",
    "screen -S andersson-test\n",
    "\n",
    "snakemake -s /proj/uppstore2017124/b2010008_nobackup/projects/crispr/data/lmo_all/test/src/snakemake/Snakefile -j 99 --cluster-config /proj/uppstore2017124/b2010008_nobackup/projects/crispr/data/lmo_all/test/src/snakemake/cluster.yaml --cluster \"sbatch -A {cluster.account} -t {cluster.time} -p {cluster.partition} -n {cluster.n}\""
   ]
  }
 ],
 "metadata": {
  "kernelspec": {
   "display_name": "Python [default]",
   "language": "python",
   "name": "python3"
  },
  "language_info": {
   "codemirror_mode": {
    "name": "ipython",
    "version": 3
   },
   "file_extension": ".py",
   "mimetype": "text/x-python",
   "name": "python",
   "nbconvert_exporter": "python",
   "pygments_lexer": "ipython3",
   "version": "3.6.4"
  }
 },
 "nbformat": 4,
 "nbformat_minor": 2
}
