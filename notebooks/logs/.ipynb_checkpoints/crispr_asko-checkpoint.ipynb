{
 "cells": [
  {
   "cell_type": "markdown",
   "metadata": {},
   "source": [
    "# Merged results filtering - part 2.\n",
    "\n",
    "We decided to try a better filtering, that is also very restrictive, based on removing a full CRISPR cluster if it contains spacers flanked by common K-mers.\n",
    "\n",
    "Problems:\n",
    "- 1) CRASS mistakenly classifies direct, but degraded, repeats as CRISPRs.\n",
    "\n",
    "See JDotter plot ran with window size 20 bases on a read bellonging to group 1907. A dark dot means the window centered at that position is perfectly repeated. The mid-diagonal is just the read plotted against itself without any offset, but their is also a parallel line that is offset by ca 30 bp, i.e. a repeat. If you blast the first 30 bases of the read against the full read it looks like this (query is the first 30 bp, sbjct is the read):\n",
    "\n",
    "```\n",
    "Query  1   CGGCCCCCTGGCCTGCCTAGCCGCAGCGCTCG  32\n",
    "           ||||||||||||||||||||||||||||||||\n",
    "Sbjct  1   CGGCCCCCTGGCCTGCCTAGCCGCAGCGCTCG  32\n",
    "```\n",
    ">First it seems to sometimes misidentify imperfect direct repeats as CRISPRs (but in fact they are something else, there are many types of repeats in genomes). This can happen if the repeat is degraded so that some parts of the repeat differ by some bases between repeated units. Other parts may be perfectly repeated. CRASS will think that the perfectly repeated regions are CRISPR repats and the intermediate pieces are spacers.  \n",
    "\n",
    "> Hence, an imperfect repeat. In the attached rtf file I've aligned the CRISPR repeat (defined by crass), one spacer and the same read as before. The green and yellow are the imperfect direct repeats. As you see both the CRISPR repeat and the spacer includes the repeat. In this case there only seems to be two repetitions of the repeated sequence in the read. Maybe this specific repeat only exist in this configuration (but it can still be copied in many places in the genome as di-repeats), or we can find it more copies on other reads, haven't checked in detail. The main problem with making a problem for finding CRISPRs is exactly this, to avoid wrongly assigning non-CRISPR repeats as CRISPRs. I didn't have good solution for that when I made my own program for CRISPR finding before (in https://www.ncbi.nlm.nih.gov/pubmed/18497291), that's why I didn't publish that program independently. Back then we were using Sanger data and didn't get that many CRISPR clusters so I manually looked at the ones we found to remove false assignments.\n",
    "\n",
    "- 2) CRASS only uses the first or last n bases of the spacers to decide on which reads they are found.\n",
    "\n",
    "> When CRASS initially identifies a spacer it requires that it is surrounded by repeats on both sides. But after that when the p-graph is built it just uses the n first or last bases of the spacers to decide on which reads they are located. This generally works well, but when multiple spacers share n bases in the beginning or end it of course screws up. That's what we are seeing - all problematic regions (also the one you talked about today) have spacers that share the beginning or the end and therefor CRASS maps them to the same sequence reads. That's why we had 18 spacers mapping (according to CRASS) to the same sequence read in the example I gave before. When doing manual alignments the whole spacers don't usually align, but the first or last n bases do.\n",
    "\n",
    "One thing that we perhaps could try is to remove all CRISPR clusters where any pair of spacers share n bases in the beginning or the end. n should be the same length as CRASS uses when building the p-graph. I also noticed that a region of the repeat sometimes are shared with a region of spacers of the same CRISPR cluster for these problematic clusters. We could also remove those cases, i.e. ***remove clusters where a spacer shares the first or last n-bases with an n-mer in the repeat (anywhere in the repeat)***."
   ]
  },
  {
   "cell_type": "code",
   "execution_count": 3,
   "metadata": {},
   "outputs": [
    {
     "name": "stdout",
     "output_type": "stream",
     "text": [
      "['', '/home/sergiu/programs/miniconda3/envs/andersson/lib/python36.zip', '/home/sergiu/programs/miniconda3/envs/andersson/lib/python3.6', '/home/sergiu/programs/miniconda3/envs/andersson/lib/python3.6/lib-dynload', '/home/sergiu/programs/miniconda3/envs/andersson/lib/python3.6/site-packages', '/home/sergiu/programs/miniconda3/envs/andersson/lib/python3.6/site-packages/IPython/extensions', '/home/sergiu/.ipython', '/home/sergiu/data/work/andersson/src/andersson/src']\n"
     ]
    }
   ],
   "source": [
    "%matplotlib inline\n",
    "import sys\n",
    "import pandas as pd\n",
    "import matplotlib\n",
    "matplotlib.style.use('ggplot')\n",
    "import seaborn as sns\n",
    "sns.set(color_codes=True)\n",
    "\n",
    "# my laptop config:\n",
    "# source code location\n",
    "src = \"/home/sergiu/data/work/andersson/src/andersson/src\"\n",
    "# crispr file generated by crass (xml format)\n",
    "crispr_location = \"/home/sergiu/data/work/andersson/data/asko/crass/crass.crispr\"\n",
    "# tab separated output\n",
    "crispr_tab_location = \"/home/sergiu/data/work/andersson/data/asko/spacer_table_trimmed.txt\"\n",
    "\n",
    "if not src in sys.path:\n",
    "    sys.path.append(src)\n",
    "else:\n",
    "    print(sys.path)\n",
    "\n",
    "import crass_crispr_parser as crispr"
   ]
  },
  {
   "cell_type": "code",
   "execution_count": 4,
   "metadata": {},
   "outputs": [
    {
     "name": "stdout",
     "output_type": "stream",
     "text": [
      "Done!\n"
     ]
    }
   ],
   "source": [
    "import crass_crispr_parser as crispr\n",
    "\n",
    "doc = crispr.import_crass_crispr(crispr_location)\n",
    "groups, spacers, sources = crispr.extract_info_all(doc)"
   ]
  },
  {
   "cell_type": "code",
   "execution_count": 5,
   "metadata": {},
   "outputs": [
    {
     "data": {
      "text/plain": [
       "881"
      ]
     },
     "execution_count": 5,
     "metadata": {},
     "output_type": "execute_result"
    }
   ],
   "source": [
    "len(spacers)"
   ]
  },
  {
   "cell_type": "code",
   "execution_count": 12,
   "metadata": {},
   "outputs": [
    {
     "name": "stdout",
     "output_type": "stream",
     "text": [
      "5245\n",
      "4255\n"
     ]
    }
   ],
   "source": [
    "print(sum([len(spacers[i]) for i in spacers]))\n",
    "for gid in spacers:\n",
    "    group = spacers[gid]\n",
    "    torem = set()  # spacer ids to be removed\n",
    "    for spid1 in group:\n",
    "        # record all spacers similar to this one in the first nine characters\n",
    "        similar = set()\n",
    "        for spid2 in group:\n",
    "            if group[spid1]['seq'][:9] == group[spid2]['seq'][:9] or \\\n",
    "            group[spid1]['seq'][9:] == group[spid2]['seq'][9:]:\n",
    "                similar.add(spid2)\n",
    "        if len(similar)>1:\n",
    "            torem |= similar\n",
    "    # remove this spacer if there are other similar spacers\n",
    "    for spid in torem:\n",
    "        del group[spid]\n",
    "print(sum([len(spacers[i]) for i in spacers]))"
   ]
  },
  {
   "cell_type": "code",
   "execution_count": 11,
   "metadata": {},
   "outputs": [
    {
     "data": {
      "text/plain": [
       "{'SP32': {'seq': 'GTGCTCATCTTTGTTGAAGTGAAGCCCGA', 'soids': {'SO28'}},\n",
       " 'SP54': {'seq': 'ATGTAGGCTCACCATTGGCATTGAAGGTC',\n",
       "  'soids': {'SO12',\n",
       "   'SO13',\n",
       "   'SO14',\n",
       "   'SO15',\n",
       "   'SO16',\n",
       "   'SO17',\n",
       "   'SO18',\n",
       "   'SO19',\n",
       "   'SO2',\n",
       "   'SO20',\n",
       "   'SO21',\n",
       "   'SO22',\n",
       "   'SO23',\n",
       "   'SO24',\n",
       "   'SO25',\n",
       "   'SO26',\n",
       "   'SO27',\n",
       "   'SO33',\n",
       "   'SO36',\n",
       "   'SO37',\n",
       "   'SO38',\n",
       "   'SO39',\n",
       "   'SO40',\n",
       "   'SO41',\n",
       "   'SO42',\n",
       "   'SO43',\n",
       "   'SO44',\n",
       "   'SO45',\n",
       "   'SO46',\n",
       "   'SO47',\n",
       "   'SO48',\n",
       "   'SO49',\n",
       "   'SO50',\n",
       "   'SO51',\n",
       "   'SO52',\n",
       "   'SO53',\n",
       "   'SO7',\n",
       "   'SO8',\n",
       "   'SO9'}},\n",
       " 'SP6': {'seq': 'TCGCGGATTGCCGCCGTGCTGGCGTTGAT',\n",
       "  'soids': {'SO12',\n",
       "   'SO13',\n",
       "   'SO14',\n",
       "   'SO15',\n",
       "   'SO16',\n",
       "   'SO17',\n",
       "   'SO18',\n",
       "   'SO19',\n",
       "   'SO2',\n",
       "   'SO20',\n",
       "   'SO21',\n",
       "   'SO22',\n",
       "   'SO23',\n",
       "   'SO24',\n",
       "   'SO25',\n",
       "   'SO26',\n",
       "   'SO27',\n",
       "   'SO7',\n",
       "   'SO8',\n",
       "   'SO9'}}}"
      ]
     },
     "execution_count": 11,
     "metadata": {},
     "output_type": "execute_result"
    }
   ],
   "source": [
    "# remove clusters where a spacer shares the first or last n-bases \n",
    "# with an n-mer in the repeat (anywhere in the repeat).\n",
    "print(sum([len(spacers[i]) for i in spacers]))\n",
    "for gid in spacers:\n",
    "    group = spacers[gid]\n",
    "    torem = set()\n",
    "    drseq = groups[gid]\n",
    "    for spid in group:\n",
    "        spseq = group[spid]['seq']\n",
    "        if spseq[:9] in drseq or spseq[:9] in drseq:\n",
    "            torem.add(spid)\n",
    "    for spid in torem:\n",
    "        del group[spid]\n",
    "print(sum([len(spacers[i]) for i in spacers]))"
   ]
  },
  {
   "cell_type": "code",
   "execution_count": null,
   "metadata": {
    "collapsed": true
   },
   "outputs": [],
   "source": []
  }
 ],
 "metadata": {
  "kernelspec": {
   "display_name": "Python [default]",
   "language": "python",
   "name": "python3"
  },
  "language_info": {
   "codemirror_mode": {
    "name": "ipython",
    "version": 3
   },
   "file_extension": ".py",
   "mimetype": "text/x-python",
   "name": "python",
   "nbconvert_exporter": "python",
   "pygments_lexer": "ipython3",
   "version": "3.6.2"
  }
 },
 "nbformat": 4,
 "nbformat_minor": 1
}
