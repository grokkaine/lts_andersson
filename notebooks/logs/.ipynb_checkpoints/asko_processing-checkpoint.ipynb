{
 "cells": [
  {
   "cell_type": "markdown",
   "metadata": {},
   "source": [
    "# Askö samples processing\n",
    "\n",
    "Started 2017, 01"
   ]
  },
  {
   "cell_type": "markdown",
   "metadata": {},
   "source": [
    "Askö could not be processed on UPPMAX due to the cluster missbehaving during and after holidays. I installed the SRA toolkit locally on my work PC, and used this to process them, using a custom lightweight pipeline in Python.\n",
    "\n",
    "Installs:\n",
    "- `sudo apt install sra-toolkit`\n",
    "- fastqc did not install well from the aptitude, so I had to download it and use the pre-built .jra.\n",
    "\n",
    "\n",
    "```\n",
    "wget ftp://ftp-trace.ncbi.nih.gov/sra/sra-instant/reads/ByRun/sra/{sample_name:.3}/{sample_name:.6}/{sample_name}/{sample_name}.sra -O {sample_name}.sra\n",
    "\n",
    "fastq-dump --split-files ./{sample_name}.sra\n",
    "\n",
    "/home/sergiu/programs/FastQC/fastqc -o ./qc/{sample_name}/ --nogroup ./{sample_name}_1.fastq ./{sample_name}_2.fastq\n",
    "\n",
    "cutadapt -q 20 -a AGATCGGAAGAG -A AGATCGGAAGAG -o {sample_name}_1.out.fastq -p {sample_name}_2.out.fastq {sample_name}_1.fastq {sample_name}_2.fastq\n",
    "\n",
    "/home/sergiu/programs/FastQC/fastqc -o ./qc2/{sample_name}/ --nogroup ./{sample_name}_1.out.fastq ./{sample_name}_2.out.fastq\n",
    "```"
   ]
  },
  {
   "cell_type": "markdown",
   "metadata": {},
   "source": [
    "### Sample confusion\n",
    "\n",
    "I downloaded a total of 9 samples, but three of them proved to be MiSeq `['SRR3745603', 'SRR3745607', 'SRR3745610']`, and the other six are HiSeq 2500 `['SRR3727523', 'SRR3727518', 'SRR3727515', 'SRR3727513', 'SRR3727509', 'SRR3727505']`.\n",
    "\n",
    "One Miseq sample report on SRA:\n",
    "[https://www.ncbi.nlm.nih.gov/sra/?term=SRR3745610](https://www.ncbi.nlm.nih.gov/sra/?term=SRR3745610)\n",
    "\n",
    "FASTQC report:\n",
    "\n",
    "- After trimming the Illumina universal adapter, the samples seem to have slight imbalance warning on the per-base sequence content, particularly at the 5' end.\n",
    "- The read duplication test fails, usually with a slight hump at over 100 bp.\n",
    "- The read length distribution (100bp for TrueSeq, 150bp for MiSeq) also fails do to my adapter+quality trimming.\n",
    "- The KMER content also fails, looking bad at the 5', but the scale of the imbalance seems moderate.\n",
    "\n",
    "- I had FASTQC processing errors for [SRR3727505, SRR3727509] after cutadapt step. So I asked Marcel :)\n",
    "- After talking to Marcel and trying a few idea we discovered that FASTQC doesn't check the meta \"length=\" tag that Illumina uses, and by default is silent about small reads. I rerun all the samples with:\n",
    "\n",
    "`cutadapt -m 50 --length-tag \"length=\" -q 20 -a AGATCGGAAGAG -A AGATCGGAAGAG -o {sample_name}_1.out.fastq -p {sample_name}_2.out.fastq {sample_name}_1.fastq {sample_name}_2.fastq`\n",
    "\n",
    "\n",
    "```\n",
    "uk.ac.babraham.FastQC.Sequence.SequenceFormatException: Ran out of data in the middle of a fastq entry.  Your file is probably truncated\n",
    "\tat uk.ac.babraham.FastQC.Sequence.FastQFile.readNext(FastQFile.java:179)\n",
    "\tat uk.ac.babraham.FastQC.Sequence.FastQFile.next(FastQFile.java:125)\n",
    "\tat uk.ac.babraham.FastQC.Analysis.AnalysisRunner.run(AnalysisRunner.java:76)\n",
    "\tat java.lang.Thread.run(Thread.java:745)\n",
    "```"
   ]
  },
  {
   "cell_type": "markdown",
   "metadata": {
    "collapsed": true
   },
   "source": [
    "### Cutadapt problems\n",
    "\n",
    "I had some downstream problems due to FASTQC not reporting 0-10 size reads as problematic and ignoring the popular length = metatag. The problems were tracked to cutadapt, but even after modifying it, two fastqc runs failed. It seems that my PC's hardrive is failing repeatedly to generate two trimmed samples using cutadapt.\n",
    "\n",
    "So the latest plan is to add snakemake in the mix, for better job control (uppmax/pc), and re-run the asko samples in UPPMAX. It seems that I started this dataset on UPPMAX, migrated to my PC due to UPPMAX not working well over hollidays and after, and finally moving back to UPPMAX due to cutadapt not working on my PC. Great times to be alive!"
   ]
  },
  {
   "cell_type": "markdown",
   "metadata": {},
   "source": [
    "# Run on Uppmax\n",
    "\n",
    "```\n",
    "# create the screen\n",
    "screen -S andersson-asko\n",
    "# then ctrl a, ctrl d\n",
    "# bring the screen forward\n",
    "screen -rd andersson-asko\n",
    "# see named screens\n",
    "screen -ls\n",
    "\n",
    "cd /proj/b2010008/nobackup/projects/crispr/data/asko/ && \\\n",
    "module use /proj/b2013006/sw/modules && \\\n",
    "module load miniconda3 && \\\n",
    "source activate andersson\n",
    "\n",
    "# run the pipeline on the login node in detached mode\n",
    "snakemake -s /proj/b2010008/nobackup/projects/crispr/sergiu/src/snakemake/Snakefile -j 99 --cluster-config /proj/b2010008/nobackup/projects/crispr/sergiu/src/snakemake/cluster.yaml --cluster \"sbatch -A {cluster.account} -t {cluster.time} -p {cluster.partition} -n {cluster.n}\"\n",
    "\n",
    "source deactivate andersson\n",
    "\n",
    "   JOBID PARTITION                      NAME     USER        ACCOUNT ST          START_TIME  TIME_LEFT  NODES CPUS NODELIST(REASON)\n",
    "11595353      core snakejob.merge_samples.2.  sergiun       b2010008  R 2017-11-29T14:26:23 8-23:46:02      1    2 m107\n",
    "```"
   ]
  },
  {
   "cell_type": "markdown",
   "metadata": {
    "collapsed": true
   },
   "source": [
    "# Results:\n",
    "\n",
    "```\n",
    "rsync -rtvz \\\n",
    "sergiun@milou.uppmax.uu.se:/proj/b2010008/nobackup/projects/crispr/data/asko/crass/ \\\n",
    "/home/sergiu/data/work/andersson/data/asko/crass/\n",
    "```\n"
   ]
  },
  {
   "cell_type": "code",
   "execution_count": null,
   "metadata": {
    "collapsed": true
   },
   "outputs": [],
   "source": []
  }
 ],
 "metadata": {
  "kernelspec": {
   "display_name": "Python [default]",
   "language": "python",
   "name": "python3"
  },
  "language_info": {
   "codemirror_mode": {
    "name": "ipython",
    "version": 3
   },
   "file_extension": ".py",
   "mimetype": "text/x-python",
   "name": "python",
   "nbconvert_exporter": "python",
   "pygments_lexer": "ipython3",
   "version": "3.6.2"
  }
 },
 "nbformat": 4,
 "nbformat_minor": 2
}
