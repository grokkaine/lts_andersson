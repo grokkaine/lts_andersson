{
 "cells": [
  {
   "cell_type": "markdown",
   "metadata": {},
   "source": [
    "# Spacer graphs - continuation\n",
    "\n",
    "The previous log file was more didactic, for the purpose of giving an example on how Jupyter notebooks can be used for internal note keeping. This is a continuation."
   ]
  },
  {
   "cell_type": "markdown",
   "metadata": {},
   "source": [
    "TODO:\n",
    "- Add an interface to the spacer graph plots.\n",
    "- Put the graphs in a dropdown picker.\n",
    "- Generate all plots."
   ]
  },
  {
   "cell_type": "markdown",
   "metadata": {},
   "source": [
    "I am making an initialization file, that sets the current directory and loads the needed modules."
   ]
  },
  {
   "cell_type": "code",
   "execution_count": 1,
   "metadata": {},
   "outputs": [],
   "source": [
    "%matplotlib inline"
   ]
  },
  {
   "cell_type": "code",
   "execution_count": 2,
   "metadata": {},
   "outputs": [
    {
     "name": "stdout",
     "output_type": "stream",
     "text": [
      "Current directory set to: /home/sergiun/data/work/long/andersson/src/andersson/src\n"
     ]
    }
   ],
   "source": [
    "%run ../../src/__init__.py\n"
   ]
  },
  {
   "cell_type": "markdown",
   "metadata": {},
   "source": [
    "I am also adding a small function to plot all graphs at once and save the plots in a diretory."
   ]
  },
  {
   "cell_type": "code",
   "execution_count": 5,
   "metadata": {},
   "outputs": [
    {
     "name": "stdout",
     "output_type": "stream",
     "text": [
      "Searching for G37640\n"
     ]
    },
    {
     "data": {
      "image/png": "[encoded data removed]",
      "text/plain": [
       "<matplotlib.figure.Figure at 0x7f28f4502fd0>"
      ]
     },
     "metadata": {},
     "output_type": "display_data"
    }
   ],
   "source": [
    "import graph_retrieval as gr\n",
    "gr.search_box()"
   ]
  },
  {
   "cell_type": "markdown",
   "metadata": {},
   "source": [
    "### Generate all spacer graph plots, given a crispr file source\n",
    "\n",
    "This will be useful once per sample analysis is performed. Later we can add some further processing options if need arise."
   ]
  },
  {
   "cell_type": "code",
   "execution_count": null,
   "metadata": {
    "collapsed": true
   },
   "outputs": [],
   "source": [
    "crisprf = \"../data/test/crass.crispr\"\n",
    "gret.generate_all_graphs(crisprf, \"../../../test/graphs\")"
   ]
  },
  {
   "cell_type": "code",
   "execution_count": null,
   "metadata": {
    "collapsed": true
   },
   "outputs": [],
   "source": [
    "import graph_retrieval as gr\n",
    "\n",
    "fsource = \"../data/test/crass.crispr\"\n",
    "dpath = \"../data/test/\"\n",
    "dout = \"../../../test/graphs\"\n",
    "\n",
    "if not os.path.exists(dout):\n",
    "    os.mkdir(dout)\n",
    "\n",
    "df = gr.get_crispr_df(fsource)\n",
    "gids = df.GID.values #get the graph ids from the crispr file\n",
    "for gid in gids:\n",
    "    q = df[df.GID == gid]\n",
    "    seq = None\n",
    "    if q.shape[0]>0 and q.shape[0]<2:\n",
    "        seq = q.iloc[0,1]\n",
    "    gr.plot_spacer_graph(dpath, gid, seq)\n",
    "    "
   ]
  },
  {
   "cell_type": "markdown",
   "metadata": {},
   "source": [
    "Okay moving this on the module code."
   ]
  },
  {
   "cell_type": "code",
   "execution_count": 4,
   "metadata": {
    "scrolled": true
   },
   "outputs": [
    {
     "name": "stdout",
     "output_type": "stream",
     "text": [
      "Graph G724 saved at ../../../test/graphs/\n",
      "Graph G1321 saved at ../../../test/graphs/\n",
      "Graph G1432 saved at ../../../test/graphs/\n",
      "Graph G1525 saved at ../../../test/graphs/\n",
      "Graph G1543 saved at ../../../test/graphs/\n",
      "Graph G1834 saved at ../../../test/graphs/\n",
      "Graph G2512 saved at ../../../test/graphs/\n",
      "Graph G2610 saved at ../../../test/graphs/\n",
      "Graph G2961 saved at ../../../test/graphs/\n",
      "Graph G4108 saved at ../../../test/graphs/\n",
      "Graph G4306 saved at ../../../test/graphs/\n",
      "Graph G4308 saved at ../../../test/graphs/\n",
      "Graph G4494 saved at ../../../test/graphs/\n",
      "Graph G4703 saved at ../../../test/graphs/\n",
      "Graph G5097 saved at ../../../test/graphs/\n",
      "Graph G5539 saved at ../../../test/graphs/\n",
      "Graph G6099 saved at ../../../test/graphs/\n",
      "Graph G6449 saved at ../../../test/graphs/\n",
      "Graph G6693 saved at ../../../test/graphs/\n",
      "Graph G6904 saved at ../../../test/graphs/\n",
      "Graph G6933 saved at ../../../test/graphs/\n",
      "Graph G7382 saved at ../../../test/graphs/\n",
      "Graph G7618 saved at ../../../test/graphs/\n",
      "Graph G7858 saved at ../../../test/graphs/\n",
      "Graph G9748 saved at ../../../test/graphs/\n",
      "Graph G9843 saved at ../../../test/graphs/\n",
      "Graph G9956 saved at ../../../test/graphs/\n",
      "Graph G10233 saved at ../../../test/graphs/\n",
      "Graph G10853 saved at ../../../test/graphs/\n",
      "Graph G11270 saved at ../../../test/graphs/\n",
      "Graph G13051 saved at ../../../test/graphs/\n",
      "Graph G13484 saved at ../../../test/graphs/\n",
      "Graph G13914 saved at ../../../test/graphs/\n",
      "Graph G14494 saved at ../../../test/graphs/\n",
      "Graph G15113 saved at ../../../test/graphs/\n",
      "Graph G28050 saved at ../../../test/graphs/\n",
      "Graph G37474 saved at ../../../test/graphs/\n",
      "Graph G37640 saved at ../../../test/graphs/\n",
      "Graph G37658 saved at ../../../test/graphs/\n",
      "Graph G39957 saved at ../../../test/graphs/\n",
      "Graph G46525 saved at ../../../test/graphs/\n",
      "Graph G47336 saved at ../../../test/graphs/\n",
      "Graph G65807 saved at ../../../test/graphs/\n",
      "Graph G76570 saved at ../../../test/graphs/\n",
      "Graph G77016 saved at ../../../test/graphs/\n",
      "Graph G88892 saved at ../../../test/graphs/\n",
      "Graph G96959 saved at ../../../test/graphs/\n",
      "Graph G108536 saved at ../../../test/graphs/\n",
      "Graph G108552 saved at ../../../test/graphs/\n",
      "Graph G199546 saved at ../../../test/graphs/\n",
      "Graph G219886 saved at ../../../test/graphs/\n",
      "Graph G225962 saved at ../../../test/graphs/\n",
      "Graph G235624 saved at ../../../test/graphs/\n",
      "Graph G271691 saved at ../../../test/graphs/\n",
      "Graph G419682 saved at ../../../test/graphs/\n",
      "File not found at ../data/test/Spacers_5_*_spacers.gv\n"
     ]
    }
   ],
   "source": [
    "import graph_retrieval as gr\n",
    "\n",
    "fsource = \"../data/test/crass.crispr\"\n",
    "dpath = \"../data/test/\"\n",
    "dout = \"../../../test/graphs/\"\n",
    "\n",
    "gr.generate_all_graphs(fsource, dpath, dout)"
   ]
  },
  {
   "cell_type": "code",
   "execution_count": null,
   "metadata": {
    "collapsed": true
   },
   "outputs": [],
   "source": []
  }
 ],
 "metadata": {
  "hide_input": false,
  "kernelspec": {
   "display_name": "Python 3",
   "language": "python",
   "name": "python3"
  },
  "language_info": {
   "codemirror_mode": {
    "name": "ipython",
    "version": 3
   },
   "file_extension": ".py",
   "mimetype": "text/x-python",
   "name": "python",
   "nbconvert_exporter": "python",
   "pygments_lexer": "ipython3",
   "version": "3.6.4"
  }
 },
 "nbformat": 4,
 "nbformat_minor": 1
}
