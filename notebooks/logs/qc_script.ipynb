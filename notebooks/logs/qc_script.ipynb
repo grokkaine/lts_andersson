{
 "cells": [
  {
   "cell_type": "markdown",
   "metadata": {},
   "source": [
    "# QC script"
   ]
  },
  {
   "cell_type": "markdown",
   "metadata": {},
   "source": [
    "A script that processes the result from several steps in the pipeline and computes some statistics.\n",
    "1. Crass results:\n",
    "    - On each CRISPR graph.\n",
    "    - How many possible paths there are?\n",
    "    - Longest path.\n",
    "    - Number of DRs, spacers, existence of flankers.\n",
    "    - Get the total number of reads.\n",
    "2. Assembly results:\n",
    "    - On each assembled sequence.\n",
    "    - Length of the largest contig.\n",
    "    - Fragmentation. (number of contigs)\n",
    "    - DR, spacers and flankers retrieval score.\n",
    "    - Link to a multiple alignment plot.\n",
    "3. ..."
   ]
  },
  {
   "cell_type": "code",
   "execution_count": null,
   "metadata": {
    "collapsed": true
   },
   "outputs": [],
   "source": []
  }
 ],
 "metadata": {
  "kernelspec": {
   "display_name": "Python [conda env:andersson]",
   "language": "python",
   "name": "conda-env-andersson-py"
  },
  "language_info": {
   "codemirror_mode": {
    "name": "ipython",
    "version": 3
   },
   "file_extension": ".py",
   "mimetype": "text/x-python",
   "name": "python",
   "nbconvert_exporter": "python",
   "pygments_lexer": "ipython3",
   "version": "3.6.2"
  }
 },
 "nbformat": 4,
 "nbformat_minor": 1
}
