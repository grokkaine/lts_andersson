{
 "cells": [
  {
   "cell_type": "markdown",
   "metadata": {},
   "source": [
    "The test pipeline uses the MiSeq samples from Askö: ['SRR3745603', 'SRR3745607', 'SRR3745610'] One Miseq sample report on SRA looks like this: https://www.ncbi.nlm.nih.gov/sra/?term=SRR3745610\n",
    "\n"
   ]
  },
  {
   "cell_type": "code",
   "execution_count": null,
   "metadata": {},
   "outputs": [],
   "source": []
  }
 ],
 "metadata": {
  "kernelspec": {
   "display_name": "Python 3",
   "language": "python",
   "name": "python3"
  },
  "language_info": {
   "codemirror_mode": {
    "name": "ipython",
    "version": 3
   },
   "file_extension": ".py",
   "mimetype": "text/x-python",
   "name": "python",
   "nbconvert_exporter": "python",
   "pygments_lexer": "ipython3",
   "version": "3.6.4"
  }
 },
 "nbformat": 4,
 "nbformat_minor": 2
}
