{
 "cells": [
  {
   "cell_type": "markdown",
   "metadata": {},
   "source": [
    "# Merged results filtering - part 2.\n",
    "\n",
    "We decided to try a better filtering, that is also very restrictive, based on removing a full CRISPR cluster if it contains spacers flanked by common K-mers.\n",
    "\n",
    "Problems:\n",
    "- 1) CRASS mistakenly classifies direct, but degraded, repeats as CRISPRs.\n",
    "\n",
    "See JDotter plot ran with window size 20 bases on a read bellonging to group 1907. A dark dot means the window centered at that position is perfectly repeated. The mid-diagonal is just the read plotted against itself without any offset, but their is also a parallel line that is offset by ca 30 bp, i.e. a repeat. If you blast the first 30 bases of the read against the full read it looks like this (query is the first 30 bp, sbjct is the read):\n",
    "\n",
    "```\n",
    "Query  1   CGGCCCCCTGGCCTGCCTAGCCGCAGCGCTCG  32\n",
    "           ||||||||||||||||||||||||||||||||\n",
    "Sbjct  1   CGGCCCCCTGGCCTGCCTAGCCGCAGCGCTCG  32\n",
    "```\n",
    ">First it seems to sometimes misidentify imperfect direct repeats as CRISPRs (but in fact they are something else, there are many types of repeats in genomes). This can happen if the repeat is degraded so that some parts of the repeat differ by some bases between repeated units. Other parts may be perfectly repeated. CRASS will think that the perfectly repeated regions are CRISPR repats and the intermediate pieces are spacers.  \n",
    "\n",
    "> Hence, an imperfect repeat. In the attached rtf file I've aligned the CRISPR repeat (defined by crass), one spacer and the same read as before. The green and yellow are the imperfect direct repeats. As you see both the CRISPR repeat and the spacer includes the repeat. In this case there only seems to be two repetitions of the repeated sequence in the read. Maybe this specific repeat only exist in this configuration (but it can still be copied in many places in the genome as di-repeats), or we can find it more copies on other reads, haven't checked in detail. The main problem with making a problem for finding CRISPRs is exactly this, to avoid wrongly assigning non-CRISPR repeats as CRISPRs. I didn't have good solution for that when I made my own program for CRISPR finding before (in https://www.ncbi.nlm.nih.gov/pubmed/18497291), that's why I didn't publish that program independently. Back then we were using Sanger data and didn't get that many CRISPR clusters so I manually looked at the ones we found to remove false assignments.\n",
    "\n",
    "- 2) CRASS only uses the first or last n bases of the spacers to decide on which reads they are found.\n",
    "\n",
    "> When CRASS initially identifies a spacer it requires that it is surrounded by repeats on both sides. But after that when the p-graph is built it just uses the n first or last bases of the spacers to decide on which reads they are located. This generally works well, but when multiple spacers share n bases in the beginning or end it of course screws up. That's what we are seeing - all problematic regions (also the one you talked about today) have spacers that share the beginning or the end and therefor CRASS maps them to the same sequence reads. That's why we had 18 spacers mapping (according to CRASS) to the same sequence read in the example I gave before. When doing manual alignments the whole spacers don't usually align, but the first or last n bases do.\n",
    "\n",
    "One thing that we perhaps could try is to remove all CRISPR clusters where any pair of spacers share n bases in the beginning or the end. n should be the same length as CRASS uses when building the p-graph. I also noticed that a region of the repeat sometimes are shared with a region of spacers of the same CRISPR cluster for these problematic clusters. We could also remove those cases, i.e. ***remove clusters where a spacer shares the first or last n-bases with an n-mer in the repeat (anywhere in the repeat)***."
   ]
  },
  {
   "cell_type": "code",
   "execution_count": 3,
   "metadata": {},
   "outputs": [
    {
     "name": "stdout",
     "output_type": "stream",
     "text": [
      "['', '/home/sergiu/programs/miniconda3/envs/andersson/lib/python36.zip', '/home/sergiu/programs/miniconda3/envs/andersson/lib/python3.6', '/home/sergiu/programs/miniconda3/envs/andersson/lib/python3.6/lib-dynload', '/home/sergiu/programs/miniconda3/envs/andersson/lib/python3.6/site-packages', '/home/sergiu/programs/miniconda3/envs/andersson/lib/python3.6/site-packages/IPython/extensions', '/home/sergiu/.ipython', '/home/sergiu/data/work/andersson/src/andersson/src']\n"
     ]
    }
   ],
   "source": [
    "%matplotlib inline\n",
    "import sys\n",
    "import pandas as pd\n",
    "import matplotlib\n",
    "matplotlib.style.use('ggplot')\n",
    "import seaborn as sns\n",
    "sns.set(color_codes=True)\n",
    "\n",
    "# my laptop config:\n",
    "# source code location\n",
    "src = \"/home/sergiu/data/work/andersson/src/andersson/src\"\n",
    "# crispr file generated by crass (xml format)\n",
    "crispr_location = \"/home/sergiu/data/work/andersson/data/asko/crass/crass.crispr\"\n",
    "# tab separated output\n",
    "crispr_tab_location = \"/home/sergiu/data/work/andersson/data/asko/spacer_table_trimmed.txt\"\n",
    "\n",
    "if not src in sys.path:\n",
    "    sys.path.append(src)\n",
    "else:\n",
    "    print(sys.path)\n",
    "\n",
    "import crass_crispr_parser as crispr"
   ]
  },
  {
   "cell_type": "code",
   "execution_count": 4,
   "metadata": {},
   "outputs": [
    {
     "name": "stdout",
     "output_type": "stream",
     "text": [
      "Done!\n"
     ]
    }
   ],
   "source": [
    "import crass_crispr_parser as crispr\n",
    "\n",
    "doc = crispr.import_crass_crispr(crispr_location)\n",
    "groups, spacers, sources = crispr.extract_info_all(doc)"
   ]
  },
  {
   "cell_type": "code",
   "execution_count": 5,
   "metadata": {},
   "outputs": [
    {
     "data": {
      "text/plain": [
       "881"
      ]
     },
     "execution_count": 5,
     "metadata": {},
     "output_type": "execute_result"
    }
   ],
   "source": []
  },
  {
   "cell_type": "code",
   "execution_count": 12,
   "metadata": {},
   "outputs": [
    {
     "name": "stdout",
     "output_type": "stream",
     "text": [
      "5245\n",
      "4255\n"
     ]
    }
   ],
   "source": [
    "print(sum([len(spacers[i]) for i in spacers]))\n",
    "for gid in spacers:\n",
    "    group = spacers[gid]\n",
    "    torem = set()  # spacer ids to be removed\n",
    "    for spid1 in group:\n",
    "        # record all spacers similar to this one in the first nine characters\n",
    "        similar = set()\n",
    "        for spid2 in group:\n",
    "            if group[spid1]['seq'][:9] == group[spid2]['seq'][:9] or \\\n",
    "            group[spid1]['seq'][9:] == group[spid2]['seq'][9:]:\n",
    "                similar.add(spid2)\n",
    "        if len(similar)>1:\n",
    "            torem |= similar\n",
    "    # remove this spacer if there are other similar spacers\n",
    "    for spid in torem:\n",
    "        del group[spid]\n",
    "print(sum([len(spacers[i]) for i in spacers]))"
   ]
  },
  {
   "cell_type": "code",
   "execution_count": 14,
   "metadata": {},
   "outputs": [
    {
     "name": "stdout",
     "output_type": "stream",
     "text": [
      "4255\n",
      "3942\n"
     ]
    }
   ],
   "source": [
    "# remove clusters where a spacer shares the first or last n-bases \n",
    "# with an n-mer in the repeat (anywhere in the repeat).\n",
    "print(sum([len(spacers[i]) for i in spacers]))\n",
    "for gid in spacers:\n",
    "    group = spacers[gid]\n",
    "    torem = set()\n",
    "    drseq = groups[gid]\n",
    "    for spid in group:\n",
    "        spseq = group[spid]['seq']\n",
    "        if spseq[:9] in drseq or spseq[:9] in drseq:\n",
    "            torem.add(spid)\n",
    "    for spid in torem:\n",
    "        del group[spid]\n",
    "print(sum([len(spacers[i]) for i in spacers]))"
   ]
  },
  {
   "cell_type": "code",
   "execution_count": null,
   "metadata": {
    "collapsed": true
   },
   "outputs": [],
   "source": []
  },
  {
   "cell_type": "code",
   "execution_count": 16,
   "metadata": {},
   "outputs": [
    {
     "name": "stdout",
     "output_type": "stream",
     "text": [
      "{'SP54': {'seq': 'ATGTAGGCTCACCATTGGCATTGAAGGTC', 'soids': {'SO25', 'SO48', 'SO8', 'SO40', 'SO33', 'SO17', 'SO42', 'SO49', 'SO51', 'SO43', 'SO44', 'SO21', 'SO16', 'SO50', 'SO20', 'SO2', 'SO24', 'SO45', 'SO38', 'SO23', 'SO27', 'SO13', 'SO14', 'SO15', 'SO41', 'SO53', 'SO37', 'SO7', 'SO52', 'SO47', 'SO12', 'SO39', 'SO26', 'SO19', 'SO18', 'SO9', 'SO46', 'SO22', 'SO36'}}, 'SP6': {'seq': 'TCGCGGATTGCCGCCGTGCTGGCGTTGAT', 'soids': {'SO25', 'SO16', 'SO27', 'SO8', 'SO12', 'SO13', 'SO14', 'SO17', 'SO26', 'SO15', 'SO19', 'SO20', 'SO2', 'SO18', 'SO24', 'SO9', 'SO22', 'SO23', 'SO7', 'SO21'}}, 'SP32': {'seq': 'GTGCTCATCTTTGTTGAAGTGAAGCCCGA', 'soids': {'SO28'}}}\n",
      "{'SO2': 'SRR3727523_R1:SRR3727523.56265', 'SO7': 'SRR3727523_R1:SRR3727523.1643880', 'SO8': 'SRR3727523_R1:SRR3727523.3135102', 'SO9': 'SRR3727523_R1:SRR3727523.10110063', 'SO12': 'SRR3727523_R1:SRR3727523.11078039', 'SO13': 'SRR3727523_R1:SRR3727523.16547319', 'SO14': 'SRR3727523_R1:SRR3727523.16863415', 'SO15': 'SRR3727523_R1:SRR3727523.21965068', 'SO16': 'SRR3727523_R1:SRR3727523.23011998', 'SO17': 'SRR3727523_R1:SRR3727523.23133626', 'SO18': 'SRR3727523_R1:SRR3727523.28885890', 'SO19': 'SRR3727523_R1:SRR3727523.30142616', 'SO20': 'SRR3727523_R1:SRR3727523.31822959', 'SO21': 'SRR3727523_R1:SRR3727523.32054402', 'SO22': 'SRR3727523_R1:SRR3727523.32215662', 'SO23': 'SRR3727523_R1:SRR3727523.41261270', 'SO24': 'SRR3727523_R1:SRR3727523.43683530', 'SO25': 'SRR3727523_R1:SRR3727523.45562463', 'SO26': 'SRR3727523_R1:SRR3727523.46822230', 'SO27': 'SRR3727523_R1:SRR3727523.51690821', 'SO28': 'SRR3727513_R1:SRR3727513.17117856', 'SO33': 'SRR3727523_R2:SRR3727523.1643880', 'SO36': 'SRR3727523_R2:SRR3727523.3135102', 'SO37': 'SRR3727523_R2:SRR3727523.11078039', 'SO38': 'SRR3727523_R2:SRR3727523.16547319', 'SO39': 'SRR3727523_R2:SRR3727523.16863415', 'SO40': 'SRR3727523_R2:SRR3727523.21965068', 'SO41': 'SRR3727523_R2:SRR3727523.23011998', 'SO42': 'SRR3727523_R2:SRR3727523.23133626', 'SO43': 'SRR3727523_R2:SRR3727523.28885890', 'SO44': 'SRR3727523_R2:SRR3727523.30142616', 'SO45': 'SRR3727523_R2:SRR3727523.31822959', 'SO46': 'SRR3727523_R2:SRR3727523.32054402', 'SO47': 'SRR3727523_R2:SRR3727523.32215662', 'SO48': 'SRR3727523_R2:SRR3727523.41261270', 'SO49': 'SRR3727523_R2:SRR3727523.43683530', 'SO50': 'SRR3727523_R2:SRR3727523.45562463', 'SO51': 'SRR3727523_R2:SRR3727523.46822230', 'SO52': 'SRR3727523_R2:SRR3727523.51690821', 'SO53': 'SRR3727523_R2:SRR3727523.56265'}\n",
      "GAGTCTAGACGATTGGGATATGCGCTCTGGCCGGAAC\n"
     ]
    }
   ],
   "source": [
    "# just to figure out what's what:\n",
    "print(spacers[list(spacers.keys())[0]])\n",
    "print(sources[list(spacers.keys())[0]])\n",
    "print(groups[list(spacers.keys())[0]])"
   ]
  },
  {
   "cell_type": "code",
   "execution_count": null,
   "metadata": {
    "collapsed": true
   },
   "outputs": [],
   "source": []
  }
 ],
 "metadata": {
  "kernelspec": {
   "display_name": "Python [default]",
   "language": "python",
   "name": "python3"
  },
  "language_info": {
   "codemirror_mode": {
    "name": "ipython",
    "version": 3
   },
   "file_extension": ".py",
   "mimetype": "text/x-python",
   "name": "python",
   "nbconvert_exporter": "python",
   "pygments_lexer": "ipython3",
   "version": "3.6.2"
  }
 },
 "nbformat": 4,
 "nbformat_minor": 1
}
