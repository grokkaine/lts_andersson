{
 "cells": [
  {
   "cell_type": "markdown",
   "metadata": {},
   "source": [
    "The previous version of this file got corrupted (for no apparent reason). Luckily I still have the analysis notebooks that was carried on the processed data.\n",
    "\n",
    "I posted an issue here: https://github.com/jupyter/notebook/issues/3211\n",
    "\n",
    "The metadata I think is here:\n",
    "https://github.com/EnvGen/BARM_web_server/blob/master/data/stage/samples.csv\n"
   ]
  },
  {
   "cell_type": "code",
   "execution_count": null,
   "metadata": {},
   "outputs": [],
   "source": []
  }
 ],
 "metadata": {
  "kernelspec": {
   "display_name": "Python [default]",
   "language": "python",
   "name": "python3"
  },
  "language_info": {
   "codemirror_mode": {
    "name": "ipython",
    "version": 3
   },
   "file_extension": ".py",
   "mimetype": "text/x-python",
   "name": "python",
   "nbconvert_exporter": "python",
   "pygments_lexer": "ipython3",
   "version": "3.6.5"
  }
 },
 "nbformat": 4,
 "nbformat_minor": 2
}
