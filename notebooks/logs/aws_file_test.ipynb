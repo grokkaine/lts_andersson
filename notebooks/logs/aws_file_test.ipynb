{
 "cells": [
  {
   "cell_type": "markdown",
   "metadata": {},
   "source": [
    "This builds my mock test files:\n",
    "```\n",
    "$ for i in {1..5}; do echo \"l$i\">f$i.txt && gzip f$i.txt; done && \\\n",
    "zcat f*.txt.gz| gzip > f.gz\n",
    "```\n",
    "\n",
    "Now I want to load this data to an S3 bucket, via proccess substitution:\n",
    "\n",
    "```\n",
    "$ aws s3 mb s3://siofuysni78\n",
    "$ zcat f*.txt.gz| gzip | aws s3 cp - s3://siofuysni78/f.gz\n",
    "$ aws s3 rm s3://siofuysni78/f.gz\n",
    "$ aws s3 rb s3://siofuysni78 --force\n",
    "```\n",
    "\n",
    "Now I want to test using the buchet without local file storage.\n",
    "\n",
    "```\n",
    "$ aws s3 mb s3://siofuysni78\n",
    "$ zcat f*.txt.gz| gzip | aws s3 cp - s3://siofuysni78/f.gz\n",
    "$ aws s3 cp s3://siofuysni78/f.gz - | gunzip | grep 1\n",
    "l1\n",
    "```\n",
    "\n",
    "test upload on rackham:\n",
    "\n",
    "```\n",
    "#!/bin/bash\n",
    "# test with:\n",
    "# sbatch -A snic2017-1-581 -p core -n 1 -t 00:00:03 -J aws_test ./test.sh\n",
    "module load awscli/1.11.140\n",
    "# in /media/sergiu/workpc/data/work/andersson/test/temp\n",
    "arr=(f1 f2 f3 f4 f5)\n",
    "farr=( \"${arr[@]/%/.txt.gz}\" )\n",
    "zcat ${farr[@]}| gzip | aws s3 cp - s3://siofuysni78/f.gz\n",
    "aws s3 cp s3://siofuysni78/f.gz - | gunzip | grep 1 > result.txt\n",
    "```"
   ]
  },
  {
   "cell_type": "code",
   "execution_count": null,
   "metadata": {},
   "outputs": [],
   "source": []
  }
 ],
 "metadata": {
  "kernelspec": {
   "display_name": "Python 3",
   "language": "python",
   "name": "python3"
  },
  "language_info": {
   "codemirror_mode": {
    "name": "ipython",
    "version": 3
   },
   "file_extension": ".py",
   "mimetype": "text/x-python",
   "name": "python",
   "nbconvert_exporter": "python",
   "pygments_lexer": "ipython3",
   "version": "3.7.1"
  }
 },
 "nbformat": 4,
 "nbformat_minor": 2
}
