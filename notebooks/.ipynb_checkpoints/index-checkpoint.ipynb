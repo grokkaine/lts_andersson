{
 "cells": [
  {
   "cell_type": "markdown",
   "metadata": {},
   "source": [
    "# Index"
   ]
  },
  {
   "cell_type": "markdown",
   "metadata": {},
   "source": [
    "\n",
    "- [Datasets](logs/datasets.ipynb) - description of the datasets \n",
    "- [Snakemake configuration](logs/snakemake.ipynb)\n",
    "\n",
    "\n",
    "- Processing the datasets:\n",
    "    - [LMO combined - on Amazon AWS](logs/aws_lmo_combined.ipynb)\n",
    "        - [aws ec2 container](logs/aws_ec2_container.ipynb)\n",
    "        - [aws file test](logs/aws_file_test.ipynb)\n",
    "        - [aws crass test](logs/aws_crass_test.ipynb)\n",
    "    - [LMO combined](logs/lmo_combined.ipynb)\n",
    "    - [LMO](logs/lmo_processing.ipynb)\n",
    "    - [Transect](logs/transect_processing.ipynb)\n",
    "    - [Askö](logs/asko_processing.ipynb)\n",
    "    - [logs/test_pipeline.ipynb](logs/test_pipeline.ipynb): test the new pipeline\n",
    "    - [logs/transect_processing_rackham.ipynb](logs/transect_processing_rackham.ipynb): reprocessing the Transect data on Rackham with the faster pipeline\n",
    "    \n",
    "\n",
    "\n",
    "- Analysis of the datasets:\n",
    "\n",
    "    - [Askö - py](analysis/asko_analysis_py.ipynb), [Askö - R](analysis/asko_analysis_R.ipynb)\n",
    "    - [LMO2013-2014 - py](analysis/lmo_2013_2014_analysis_py.ipynb), [LMO2013-2014 - R](analysis/lmo_2013_2014_analysis_R.ipynb)\n",
    "    - [LMO-full](analysis/LMO-full-py.ipynb)\n",
    "\n",
    "- Spacer graph statistics:\n",
    "    - [analysis/assembled_graph.ipynb](analysis/assembled_graph.ipynb): reading CRISPR assembly graph and generating spacer lists\n",
    "\n",
    "\n",
    "**Older:**\n",
    "- [Crass setup on my Ubuntu laptop](logs/crass_setup_laptop.ipynb) Crass is a program for assembling CRISPR sequences in metagenomic data\n",
    "- [Crass fulltest](logs/crass_fulltest.ipynb) Crass is now tested on a full sample.\n",
    "- [Crisprtools](logs/crisprtools.ipynb) This is a program that parses the XML .crispr file resulted from running Crass\n",
    "- [Assembly test](plans/assembly.ipynb) (on laptop)"
   ]
  },
  {
   "cell_type": "code",
   "execution_count": null,
   "metadata": {
    "collapsed": true
   },
   "outputs": [],
   "source": []
  }
 ],
 "metadata": {
  "hide_input": false,
  "kernelspec": {
   "display_name": "Python [default]",
   "language": "python",
   "name": "python3"
  },
  "language_info": {
   "codemirror_mode": {
    "name": "ipython",
    "version": 3
   },
   "file_extension": ".py",
   "mimetype": "text/x-python",
   "name": "python",
   "nbconvert_exporter": "python",
   "pygments_lexer": "ipython3",
   "version": "3.6.5"
  }
 },
 "nbformat": 4,
 "nbformat_minor": 1
}
