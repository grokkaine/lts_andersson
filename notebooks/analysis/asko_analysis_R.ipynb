{
 "cells": [
  {
   "cell_type": "markdown",
   "metadata": {},
   "source": [
    "# Asko analysis - the R part\n",
    "\n",
    "- Sample clustering\n",
    "- Spacer profiles\n",
    "- Sample correlation vs Spatial correlation"
   ]
  },
  {
   "cell_type": "code",
   "execution_count": 1,
   "metadata": {},
   "outputs": [
    {
     "name": "stderr",
     "output_type": "stream",
     "text": [
      "Loading required package: permute\n",
      "Loading required package: lattice\n",
      "This is vegan 2.4-4\n",
      "\n",
      "Attaching package: ‘lubridate’\n",
      "\n",
      "The following object is masked from ‘package:base’:\n",
      "\n",
      "    date\n",
      "\n",
      "Loading required package: MASS\n",
      "\n",
      "Attaching package: ‘calibrate’\n",
      "\n",
      "The following objects are masked from ‘package:vegan’:\n",
      "\n",
      "    calibrate, rda\n",
      "\n"
     ]
    }
   ],
   "source": [
    "# install.packages(c(\"PoiClaClu\", \"cluster\", \"vegan\", \"ape\", \"lubridate\", \"stringi\", \"pheatmap\"))\n",
    "\n",
    "library(cluster)\n",
    "library(vegan)\n",
    "library(ape)\n",
    "library(\"PoiClaClu\")\n",
    "library(lubridate)\n",
    "library(stringi)\n",
    "library(pheatmap)\n",
    "library(calibrate)\n",
    "\n",
    "# laptop config\n",
    "setwd(\"/home/sergiu/data/work/andersson/src/andersson/src\")\n",
    "crispr_tab_location = \"/home/sergiu/data/work/andersson/data/asko/spacer_table_filtered_all.txt\"\n",
    "\n",
    "# desktop config\n",
    "#setwd(\"/home/sergiu/data/data/work/andersson/src/andersson/src\")\n",
    "#spacerfile <- \"/home/sergiu/data/data/work/andersson/data/asko/spacer_table_filtered.txt\"\n",
    "\n",
    "samples_r1 <- c('SRR3727523_R1', 'SRR3727518_R1', 'SRR3727515_R1', 'SRR3727513_R1', 'SRR3727509_R1', 'SRR3727505_R1')\n",
    "samples_r2 <- c('SRR3727523_R2', 'SRR3727518_R2', 'SRR3727515_R2', 'SRR3727513_R2', 'SRR3727509_R2', 'SRR3727505_R2')"
   ]
  },
  {
   "cell_type": "code",
   "execution_count": 2,
   "metadata": {},
   "outputs": [
    {
     "data": {
      "text/html": [
       "6"
      ],
      "text/latex": [
       "6"
      ],
      "text/markdown": [
       "6"
      ],
      "text/plain": [
       "[1] 6"
      ]
     },
     "metadata": {},
     "output_type": "display_data"
    }
   ],
   "source": [
    "# TEMP: R test\n",
    "source(\"analize_asko.R\")\n",
    "mult(2,3)"
   ]
  },
  {
   "cell_type": "code",
   "execution_count": 3,
   "metadata": {},
   "outputs": [
    {
     "ename": "ERROR",
     "evalue": "Error in read.table(file = file, header = header, sep = sep, quote = quote, : object 'spacerfile' not found\n",
     "output_type": "error",
     "traceback": [
      "Error in read.table(file = file, header = header, sep = sep, quote = quote, : object 'spacerfile' not found\nTraceback:\n",
      "1. read.delim(spacerfile)",
      "2. read.table(file = file, header = header, sep = sep, quote = quote, \n .     dec = dec, fill = fill, comment.char = comment.char, ...)"
     ]
    }
   ],
   "source": [
    "\n",
    "tab <- read.delim(spacerfile)\n",
    "crispr_id <- as.character(tab[,1])\n",
    "crispr_repeat_seq <- as.character(tab[,2])\n",
    "spacer_id <- as.character(tab[,3])\n",
    "spacer_repeat_seq <- as.character(tab[,4])\n",
    "counts <- as.matrix(tab[,5:ncol(tab)])\n",
    "colnames(counts) = gsub(\"^X\", \"\", colnames(counts))\n",
    "sample = colnames(counts)\n",
    "\n",
    "norm_counts <- counts\n",
    "for (i in 1:ncol(counts)) {\n",
    "  norm_counts[,i] <- counts[,i]/sum(counts[,i])\n",
    "}\n",
    "\n",
    "binary_counts <- counts\n",
    "binary_counts[which(counts > 0)] <- 1\n",
    "\n",
    "nonred_crispr_id = unique(crispr_id)\n",
    "counts_per_crispr = matrix(ncol = length(sample), nrow = length(nonred_crispr_id))\n",
    "colnames(counts_per_crispr) = sample\n",
    "rownames(counts_per_crispr) = nonred_crispr_id\n",
    "for (i in 1:length(nonred_crispr_id)) {\n",
    "  ix = which(crispr_id==nonred_crispr_id[i])\n",
    "  if (length(ix) > 1) {\n",
    "    counts_per_crispr[i,] = apply(counts[ix,], 2, sum)\n",
    "  } else {\n",
    "    counts_per_crispr[i,] = counts[ix,]\n",
    "  }\n",
    "}\n",
    "\n",
    "norm_counts_per_crispr <- counts_per_crispr\n",
    "for (i in 1:ncol(counts_per_crispr)) {\n",
    "  norm_counts_per_crispr[,i] <- counts_per_crispr[,i]/sum(counts_per_crispr[,i])\n",
    "}\n",
    "\n",
    "binary_counts_per_crispr <- counts_per_crispr\n",
    "binary_counts_per_crispr[which(counts_per_crispr > 0)] <- 1\n",
    "\n",
    "nonred_spacers_per_crispr = c()\n",
    "for (i in 1:length(nonred_crispr_id)) {\n",
    "  ix = which(crispr_id==nonred_crispr_id[i])\n",
    "  nonred_spacers_per_crispr[i] = length(ix)\n",
    "}\n"
   ]
  },
  {
   "cell_type": "markdown",
   "metadata": {},
   "source": [
    "# Sample pairwise distances"
   ]
  },
  {
   "cell_type": "code",
   "execution_count": null,
   "metadata": {
    "collapsed": true
   },
   "outputs": [],
   "source": [
    "binary_dist <- as.matrix(dist(t(counts), method = \"binary\"))\n",
    "euclidean_dist <- as.matrix(dist(t(norm_counts), method = \"euclidean\"))\n",
    "poison_dist = as.matrix(PoissonDistance(t(counts))$dd)\n",
    "rownames(poison_dist) = colnames(poison_dist) = sample\n",
    "\n",
    "binary_dist_per_crispr <- as.matrix(dist(t(counts_per_crispr), method = \"binary\"))\n",
    "euclidean_dist_per_crispr <- as.matrix(dist(t(norm_counts_per_crispr), method = \"euclidean\"))\n",
    "poison_dist_per_crispr = as.matrix(PoissonDistance(t(counts_per_crispr))$dd)\n",
    "rownames(poison_dist_per_crispr) = colnames(poison_dist_per_crispr) = sample"
   ]
  },
  {
   "cell_type": "markdown",
   "metadata": {},
   "source": [
    "More pairwise distances were computed above, but we only look at the Poisson distance as it seems the most informative."
   ]
  },
  {
   "cell_type": "code",
   "execution_count": null,
   "metadata": {},
   "outputs": [],
   "source": [
    "pheatmap(poison_dist_per_crispr[samples_r1,samples_r1], cluster_rows = TRUE, cluster_cols = TRUE)"
   ]
  },
  {
   "cell_type": "code",
   "execution_count": null,
   "metadata": {},
   "outputs": [],
   "source": [
    "pcoa <- pcoa(poison_dist_per_crispr[samples_r1, samples_r1], correction = \"cailliez\")\n",
    "xlab = paste(\"PC1 (\", 100*round(pcoa$values[1,3], 2), \"%)\", sep = \"\")\n",
    "ylab = paste(\"PC2 (\", 100*round(pcoa$values[2,3], 2), \"%)\", sep = \"\")\n",
    "plot(pcoa$vectors[,1], pcoa$vectors[,2], pch = 16, col = \"red\", xlab = xlab, ylab = ylab)\n",
    "textxy(pcoa$vectors[,1], pcoa$vectors[,2], samples_r1, cex = 0.5, offset = 0.6)"
   ]
  },
  {
   "cell_type": "markdown",
   "metadata": {},
   "source": [
    "Anders also used a package from community ecology ([vegan](https://cran.r-project.org/web/packages/vegan/)) to compute sample distance.\n"
   ]
  },
  {
   "cell_type": "code",
   "execution_count": null,
   "metadata": {
    "collapsed": true
   },
   "outputs": [],
   "source": [
    "mds <- metaMDS(poison_dist_per_crispr)"
   ]
  },
  {
   "cell_type": "code",
   "execution_count": null,
   "metadata": {},
   "outputs": [],
   "source": [
    "plot(mds, type = \"t\")"
   ]
  },
  {
   "cell_type": "markdown",
   "metadata": {},
   "source": [
    "# Sample clustering"
   ]
  },
  {
   "cell_type": "code",
   "execution_count": null,
   "metadata": {},
   "outputs": [],
   "source": [
    "cluster_sample <- agnes(poison_dist, diss = TRUE, method = \"average\")\n",
    "plot(cluster_sample, which.plots = 2, hang = 0, main = \"\", axes = FALSE, xlab = \"\", ylab = \"\", sub = \"\", cex = 1.0)"
   ]
  },
  {
   "cell_type": "code",
   "execution_count": null,
   "metadata": {
    "collapsed": true
   },
   "outputs": [],
   "source": []
  },
  {
   "cell_type": "code",
   "execution_count": null,
   "metadata": {},
   "outputs": [],
   "source": []
  },
  {
   "cell_type": "code",
   "execution_count": null,
   "metadata": {
    "collapsed": true
   },
   "outputs": [],
   "source": []
  }
 ],
 "metadata": {
  "kernelspec": {
   "display_name": "R",
   "language": "R",
   "name": "ir"
  },
  "language_info": {
   "codemirror_mode": "r",
   "file_extension": ".r",
   "mimetype": "text/x-r-source",
   "name": "R",
   "pygments_lexer": "r",
   "version": "3.2.3"
  }
 },
 "nbformat": 4,
 "nbformat_minor": 2
}
